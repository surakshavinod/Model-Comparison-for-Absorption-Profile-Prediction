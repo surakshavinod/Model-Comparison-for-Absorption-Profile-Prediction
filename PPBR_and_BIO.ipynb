{
  "cells": [
    {
      "cell_type": "markdown",
      "metadata": {
        "id": "ZkTB73ciwP1I"
      },
      "source": [
        "Prediction models of human plasma protein binding rate and oral bioavailability\n",
        "--"
      ]
    },
    {
      "cell_type": "code",
      "execution_count": null,
      "metadata": {
        "colab": {
          "base_uri": "https://localhost:8080/",
          "height": 1000
        },
        "id": "fzUp-bh0-PsM",
        "outputId": "4344536e-1d65-4e34-a733-9867b00c150d"
      },
      "outputs": [
        {
          "name": "stdout",
          "output_type": "stream",
          "text": [
            "Collecting PyTDC\n",
            "  Downloading PyTDC-0.4.12.tar.gz (126 kB)\n",
            "\u001b[2K     \u001b[90m━━━━━━━━━━━━━━━━━━━━━━━━━━━━━━━━━━━━━━━━\u001b[0m \u001b[32m126.4/126.4 kB\u001b[0m \u001b[31m930.3 kB/s\u001b[0m eta \u001b[36m0:00:00\u001b[0m\n",
            "\u001b[?25h  Preparing metadata (setup.py) ... \u001b[?25l\u001b[?25hdone\n",
            "Collecting biopython==1.78 (from PyTDC)\n",
            "  Downloading biopython-1.78.tar.gz (16.9 MB)\n",
            "\u001b[2K     \u001b[90m━━━━━━━━━━━━━━━━━━━━━━━━━━━━━━━━━━━━━━━━\u001b[0m \u001b[32m16.9/16.9 MB\u001b[0m \u001b[31m13.3 MB/s\u001b[0m eta \u001b[36m0:00:00\u001b[0m\n",
            "\u001b[?25h  Preparing metadata (setup.py) ... \u001b[?25l\u001b[?25hdone\n",
            "Collecting dataclasses==0.6 (from PyTDC)\n",
            "  Downloading dataclasses-0.6-py3-none-any.whl (14 kB)\n",
            "Collecting DeepPurpose (from PyTDC)\n",
            "  Downloading DeepPurpose-0.1.5.tar.gz (158 kB)\n",
            "\u001b[2K     \u001b[90m━━━━━━━━━━━━━━━━━━━━━━━━━━━━━━━━━━━━━━━━\u001b[0m \u001b[32m158.5/158.5 kB\u001b[0m \u001b[31m7.2 MB/s\u001b[0m eta \u001b[36m0:00:00\u001b[0m\n",
            "\u001b[?25h  Preparing metadata (setup.py) ... \u001b[?25l\u001b[?25hdone\n",
            "Collecting descriptastorus (from PyTDC)\n",
            "  Downloading descriptastorus-2.6.1-py3-none-any.whl (1.1 MB)\n",
            "\u001b[2K     \u001b[90m━━━━━━━━━━━━━━━━━━━━━━━━━━━━━━━━━━━━━━━━\u001b[0m \u001b[32m1.1/1.1 MB\u001b[0m \u001b[31m9.6 MB/s\u001b[0m eta \u001b[36m0:00:00\u001b[0m\n",
            "\u001b[?25hCollecting fuzzywuzzy==0.18.0 (from PyTDC)\n",
            "  Downloading fuzzywuzzy-0.18.0-py2.py3-none-any.whl (18 kB)\n",
            "Requirement already satisfied: huggingface_hub==0.20.3 in /usr/local/lib/python3.10/dist-packages (from PyTDC) (0.20.3)\n",
            "Collecting mygene==3.2.2 (from PyTDC)\n",
            "  Downloading mygene-3.2.2-py2.py3-none-any.whl (5.4 kB)\n",
            "Collecting numpy==1.26.4 (from PyTDC)\n",
            "  Downloading numpy-1.26.4-cp310-cp310-manylinux_2_17_x86_64.manylinux2014_x86_64.whl (18.2 MB)\n",
            "\u001b[2K     \u001b[90m━━━━━━━━━━━━━━━━━━━━━━━━━━━━━━━━━━━━━━━━\u001b[0m \u001b[32m18.2/18.2 MB\u001b[0m \u001b[31m22.7 MB/s\u001b[0m eta \u001b[36m0:00:00\u001b[0m\n",
            "\u001b[?25hCollecting openpyxl==3.0.10 (from PyTDC)\n",
            "  Downloading openpyxl-3.0.10-py2.py3-none-any.whl (242 kB)\n",
            "\u001b[2K     \u001b[90m━━━━━━━━━━━━━━━━━━━━━━━━━━━━━━━━━━━━━━━━\u001b[0m \u001b[32m242.1/242.1 kB\u001b[0m \u001b[31m17.4 MB/s\u001b[0m eta \u001b[36m0:00:00\u001b[0m\n",
            "\u001b[?25hCollecting pandas==2.1.4 (from PyTDC)\n",
            "  Downloading pandas-2.1.4-cp310-cp310-manylinux_2_17_x86_64.manylinux2014_x86_64.whl (12.3 MB)\n",
            "\u001b[2K     \u001b[90m━━━━━━━━━━━━━━━━━━━━━━━━━━━━━━━━━━━━━━━━\u001b[0m \u001b[32m12.3/12.3 MB\u001b[0m \u001b[31m18.4 MB/s\u001b[0m eta \u001b[36m0:00:00\u001b[0m\n",
            "\u001b[?25hRequirement already satisfied: requests==2.31.0 in /usr/local/lib/python3.10/dist-packages (from PyTDC) (2.31.0)\n",
            "Requirement already satisfied: scikit-learn==1.2.2 in /usr/local/lib/python3.10/dist-packages (from PyTDC) (1.2.2)\n",
            "Collecting seaborn==0.12.2 (from PyTDC)\n",
            "  Downloading seaborn-0.12.2-py3-none-any.whl (293 kB)\n",
            "\u001b[2K     \u001b[90m━━━━━━━━━━━━━━━━━━━━━━━━━━━━━━━━━━━━━━━━\u001b[0m \u001b[32m293.3/293.3 kB\u001b[0m \u001b[31m11.8 MB/s\u001b[0m eta \u001b[36m0:00:00\u001b[0m\n",
            "\u001b[?25hCollecting tqdm==4.65.0 (from PyTDC)\n",
            "  Downloading tqdm-4.65.0-py3-none-any.whl (77 kB)\n",
            "\u001b[2K     \u001b[90m━━━━━━━━━━━━━━━━━━━━━━━━━━━━━━━━━━━━━━━━\u001b[0m \u001b[32m77.1/77.1 kB\u001b[0m \u001b[31m2.6 MB/s\u001b[0m eta \u001b[36m0:00:00\u001b[0m\n",
            "\u001b[?25hCollecting cellxgene-census==1.10.2 (from PyTDC)\n",
            "  Downloading cellxgene_census-1.10.2-py3-none-any.whl (43 kB)\n",
            "\u001b[2K     \u001b[90m━━━━━━━━━━━━━━━━━━━━━━━━━━━━━━━━━━━━━━━━\u001b[0m \u001b[32m43.9/43.9 kB\u001b[0m \u001b[31m2.0 MB/s\u001b[0m eta \u001b[36m0:00:00\u001b[0m\n",
            "\u001b[?25hCollecting gget==0.28.4 (from PyTDC)\n",
            "  Downloading gget-0.28.4-py3-none-any.whl (43.1 MB)\n",
            "\u001b[2K     \u001b[90m━━━━━━━━━━━━━━━━━━━━━━━━━━━━━━━━━━━━━━━━\u001b[0m \u001b[32m43.1/43.1 MB\u001b[0m \u001b[31m8.3 MB/s\u001b[0m eta \u001b[36m0:00:00\u001b[0m\n",
            "\u001b[?25hCollecting pydantic==2.6.3 (from PyTDC)\n",
            "  Downloading pydantic-2.6.3-py3-none-any.whl (395 kB)\n",
            "\u001b[2K     \u001b[90m━━━━━━━━━━━━━━━━━━━━━━━━━━━━━━━━━━━━━━━━\u001b[0m \u001b[32m395.2/395.2 kB\u001b[0m \u001b[31m28.2 MB/s\u001b[0m eta \u001b[36m0:00:00\u001b[0m\n",
            "\u001b[?25hCollecting rdkit==2023.9.5 (from PyTDC)\n",
            "  Downloading rdkit-2023.9.5-cp310-cp310-manylinux_2_17_x86_64.manylinux2014_x86_64.whl (34.4 MB)\n",
            "\u001b[2K     \u001b[90m━━━━━━━━━━━━━━━━━━━━━━━━━━━━━━━━━━━━━━━━\u001b[0m \u001b[32m34.4/34.4 MB\u001b[0m \u001b[31m21.7 MB/s\u001b[0m eta \u001b[36m0:00:00\u001b[0m\n",
            "\u001b[?25hCollecting tiledbsoma==1.7.2 (from PyTDC)\n",
            "  Downloading tiledbsoma-1.7.2-cp310-cp310-manylinux_2_17_x86_64.manylinux2014_x86_64.whl (15.4 MB)\n",
            "\u001b[2K     \u001b[90m━━━━━━━━━━━━━━━━━━━━━━━━━━━━━━━━━━━━━━━━\u001b[0m \u001b[32m15.4/15.4 MB\u001b[0m \u001b[31m33.0 MB/s\u001b[0m eta \u001b[36m0:00:00\u001b[0m\n",
            "\u001b[?25hCollecting yapf==0.40.2 (from PyTDC)\n",
            "  Downloading yapf-0.40.2-py3-none-any.whl (254 kB)\n",
            "\u001b[2K     \u001b[90m━━━━━━━━━━━━━━━━━━━━━━━━━━━━━━━━━━━━━━━━\u001b[0m \u001b[32m254.7/254.7 kB\u001b[0m \u001b[31m15.4 MB/s\u001b[0m eta \u001b[36m0:00:00\u001b[0m\n",
            "\u001b[?25hCollecting anndata (from cellxgene-census==1.10.2->PyTDC)\n",
            "  Downloading anndata-0.10.7-py3-none-any.whl (122 kB)\n",
            "\u001b[2K     \u001b[90m━━━━━━━━━━━━━━━━━━━━━━━━━━━━━━━━━━━━━━━━\u001b[0m \u001b[32m122.4/122.4 kB\u001b[0m \u001b[31m10.3 MB/s\u001b[0m eta \u001b[36m0:00:00\u001b[0m\n",
            "\u001b[?25hRequirement already satisfied: typing-extensions in /usr/local/lib/python3.10/dist-packages (from cellxgene-census==1.10.2->PyTDC) (4.11.0)\n",
            "Collecting s3fs>=2021.06.1 (from cellxgene-census==1.10.2->PyTDC)\n",
            "  Downloading s3fs-2024.3.1-py3-none-any.whl (29 kB)\n",
            "Requirement already satisfied: ipython in /usr/local/lib/python3.10/dist-packages (from gget==0.28.4->PyTDC) (7.34.0)\n",
            "Requirement already satisfied: matplotlib in /usr/local/lib/python3.10/dist-packages (from gget==0.28.4->PyTDC) (3.7.1)\n",
            "Collecting mysql-connector-python<=8.0.29,>=8.0.5 (from gget==0.28.4->PyTDC)\n",
            "  Downloading mysql_connector_python-8.0.29-cp310-cp310-manylinux1_x86_64.whl (25.2 MB)\n",
            "\u001b[2K     \u001b[90m━━━━━━━━━━━━━━━━━━━━━━━━━━━━━━━━━━━━━━━━\u001b[0m \u001b[32m25.2/25.2 MB\u001b[0m \u001b[31m10.4 MB/s\u001b[0m eta \u001b[36m0:00:00\u001b[0m\n",
            "\u001b[?25hRequirement already satisfied: beautifulsoup4>=4.10.0 in /usr/local/lib/python3.10/dist-packages (from gget==0.28.4->PyTDC) (4.12.3)\n",
            "Requirement already satisfied: ipywidgets in /usr/local/lib/python3.10/dist-packages (from gget==0.28.4->PyTDC) (7.7.1)\n",
            "Requirement already satisfied: lxml in /usr/local/lib/python3.10/dist-packages (from gget==0.28.4->PyTDC) (4.9.4)\n",
            "Requirement already satisfied: filelock in /usr/local/lib/python3.10/dist-packages (from huggingface_hub==0.20.3->PyTDC) (3.13.4)\n",
            "Requirement already satisfied: fsspec>=2023.5.0 in /usr/local/lib/python3.10/dist-packages (from huggingface_hub==0.20.3->PyTDC) (2023.6.0)\n",
            "Requirement already satisfied: pyyaml>=5.1 in /usr/local/lib/python3.10/dist-packages (from huggingface_hub==0.20.3->PyTDC) (6.0.1)\n",
            "Requirement already satisfied: packaging>=20.9 in /usr/local/lib/python3.10/dist-packages (from huggingface_hub==0.20.3->PyTDC) (24.0)\n",
            "Collecting biothings-client>=0.2.6 (from mygene==3.2.2->PyTDC)\n",
            "  Downloading biothings_client-0.3.1-py2.py3-none-any.whl (29 kB)\n",
            "Requirement already satisfied: et-xmlfile in /usr/local/lib/python3.10/dist-packages (from openpyxl==3.0.10->PyTDC) (1.1.0)\n",
            "Requirement already satisfied: python-dateutil>=2.8.2 in /usr/local/lib/python3.10/dist-packages (from pandas==2.1.4->PyTDC) (2.8.2)\n",
            "Requirement already satisfied: pytz>=2020.1 in /usr/local/lib/python3.10/dist-packages (from pandas==2.1.4->PyTDC) (2023.4)\n",
            "Requirement already satisfied: tzdata>=2022.1 in /usr/local/lib/python3.10/dist-packages (from pandas==2.1.4->PyTDC) (2024.1)\n",
            "Requirement already satisfied: annotated-types>=0.4.0 in /usr/local/lib/python3.10/dist-packages (from pydantic==2.6.3->PyTDC) (0.6.0)\n",
            "Collecting pydantic-core==2.16.3 (from pydantic==2.6.3->PyTDC)\n",
            "  Downloading pydantic_core-2.16.3-cp310-cp310-manylinux_2_17_x86_64.manylinux2014_x86_64.whl (2.2 MB)\n",
            "\u001b[2K     \u001b[90m━━━━━━━━━━━━━━━━━━━━━━━━━━━━━━━━━━━━━━━━\u001b[0m \u001b[32m2.2/2.2 MB\u001b[0m \u001b[31m29.6 MB/s\u001b[0m eta \u001b[36m0:00:00\u001b[0m\n",
            "\u001b[?25hRequirement already satisfied: Pillow in /usr/local/lib/python3.10/dist-packages (from rdkit==2023.9.5->PyTDC) (9.4.0)\n",
            "Requirement already satisfied: charset-normalizer<4,>=2 in /usr/local/lib/python3.10/dist-packages (from requests==2.31.0->PyTDC) (3.3.2)\n",
            "Requirement already satisfied: idna<4,>=2.5 in /usr/local/lib/python3.10/dist-packages (from requests==2.31.0->PyTDC) (3.7)\n",
            "Requirement already satisfied: urllib3<3,>=1.21.1 in /usr/local/lib/python3.10/dist-packages (from requests==2.31.0->PyTDC) (2.0.7)\n",
            "Requirement already satisfied: certifi>=2017.4.17 in /usr/local/lib/python3.10/dist-packages (from requests==2.31.0->PyTDC) (2024.2.2)\n",
            "Requirement already satisfied: scipy>=1.3.2 in /usr/local/lib/python3.10/dist-packages (from scikit-learn==1.2.2->PyTDC) (1.11.4)\n",
            "Requirement already satisfied: joblib>=1.1.1 in /usr/local/lib/python3.10/dist-packages (from scikit-learn==1.2.2->PyTDC) (1.4.0)\n",
            "Requirement already satisfied: threadpoolctl>=2.0.0 in /usr/local/lib/python3.10/dist-packages (from scikit-learn==1.2.2->PyTDC) (3.4.0)\n",
            "Requirement already satisfied: attrs>=22.2 in /usr/local/lib/python3.10/dist-packages (from tiledbsoma==1.7.2->PyTDC) (23.2.0)\n",
            "Requirement already satisfied: pyarrow-hotfix in /usr/local/lib/python3.10/dist-packages (from tiledbsoma==1.7.2->PyTDC) (0.6)\n",
            "Collecting scanpy>=1.9.2 (from tiledbsoma==1.7.2->PyTDC)\n",
            "  Downloading scanpy-1.10.1-py3-none-any.whl (2.1 MB)\n",
            "\u001b[2K     \u001b[90m━━━━━━━━━━━━━━━━━━━━━━━━━━━━━━━━━━━━━━━━\u001b[0m \u001b[32m2.1/2.1 MB\u001b[0m \u001b[31m37.9 MB/s\u001b[0m eta \u001b[36m0:00:00\u001b[0m\n",
            "\u001b[?25hCollecting somacore==1.0.7 (from tiledbsoma==1.7.2->PyTDC)\n",
            "  Downloading somacore-1.0.7-py3-none-any.whl (35 kB)\n",
            "Collecting tiledb~=0.25.0 (from tiledbsoma==1.7.2->PyTDC)\n",
            "  Downloading tiledb-0.25.1-cp310-cp310-manylinux_2_17_x86_64.manylinux2014_x86_64.whl (25.2 MB)\n",
            "\u001b[2K     \u001b[90m━━━━━━━━━━━━━━━━━━━━━━━━━━━━━━━━━━━━━━━━\u001b[0m \u001b[32m25.2/25.2 MB\u001b[0m \u001b[31m29.9 MB/s\u001b[0m eta \u001b[36m0:00:00\u001b[0m\n",
            "\u001b[?25hRequirement already satisfied: pyarrow>=9.0.0 in /usr/local/lib/python3.10/dist-packages (from tiledbsoma==1.7.2->PyTDC) (14.0.2)\n",
            "Requirement already satisfied: numba>=0.58.0 in /usr/local/lib/python3.10/dist-packages (from tiledbsoma==1.7.2->PyTDC) (0.58.1)\n",
            "Requirement already satisfied: importlib-metadata>=6.6.0 in /usr/local/lib/python3.10/dist-packages (from yapf==0.40.2->PyTDC) (7.1.0)\n",
            "Requirement already satisfied: platformdirs>=3.5.1 in /usr/local/lib/python3.10/dist-packages (from yapf==0.40.2->PyTDC) (4.2.0)\n",
            "Requirement already satisfied: tomli>=2.0.1 in /usr/local/lib/python3.10/dist-packages (from yapf==0.40.2->PyTDC) (2.0.1)\n",
            "Collecting wget (from DeepPurpose->PyTDC)\n",
            "  Downloading wget-3.2.zip (10 kB)\n",
            "  Preparing metadata (setup.py) ... \u001b[?25l\u001b[?25hdone\n",
            "Requirement already satisfied: torch in /usr/local/lib/python3.10/dist-packages (from DeepPurpose->PyTDC) (2.2.1+cu121)\n",
            "Collecting pandas-flavor (from DeepPurpose->PyTDC)\n",
            "  Downloading pandas_flavor-0.6.0-py3-none-any.whl (7.2 kB)\n",
            "Collecting subword-nmt (from DeepPurpose->PyTDC)\n",
            "  Downloading subword_nmt-0.3.8-py3-none-any.whl (27 kB)\n",
            "Collecting lifelines (from DeepPurpose->PyTDC)\n",
            "  Downloading lifelines-0.28.0-py3-none-any.whl (349 kB)\n",
            "\u001b[2K     \u001b[90m━━━━━━━━━━━━━━━━━━━━━━━━━━━━━━━━━━━━━━━━\u001b[0m \u001b[32m349.2/349.2 kB\u001b[0m \u001b[31m34.9 MB/s\u001b[0m eta \u001b[36m0:00:00\u001b[0m\n",
            "\u001b[?25hRequirement already satisfied: prettytable in /usr/local/lib/python3.10/dist-packages (from DeepPurpose->PyTDC) (3.10.0)\n",
            "Requirement already satisfied: tensorboard in /usr/local/lib/python3.10/dist-packages (from DeepPurpose->PyTDC) (2.15.2)\n",
            "Collecting ax-platform (from DeepPurpose->PyTDC)\n",
            "  Downloading ax_platform-0.3.7-py3-none-any.whl (1.2 MB)\n",
            "\u001b[2K     \u001b[90m━━━━━━━━━━━━━━━━━━━━━━━━━━━━━━━━━━━━━━━━\u001b[0m \u001b[32m1.2/1.2 MB\u001b[0m \u001b[31m40.5 MB/s\u001b[0m eta \u001b[36m0:00:00\u001b[0m\n",
            "\u001b[?25hCollecting dgllife (from DeepPurpose->PyTDC)\n",
            "  Downloading dgllife-0.3.2-py3-none-any.whl (226 kB)\n",
            "\u001b[2K     \u001b[90m━━━━━━━━━━━━━━━━━━━━━━━━━━━━━━━━━━━━━━━━\u001b[0m \u001b[32m226.1/226.1 kB\u001b[0m \u001b[31m23.3 MB/s\u001b[0m eta \u001b[36m0:00:00\u001b[0m\n",
            "\u001b[?25hCollecting array-api-compat!=1.5,>1.4 (from anndata->cellxgene-census==1.10.2->PyTDC)\n",
            "  Downloading array_api_compat-1.6-py3-none-any.whl (36 kB)\n",
            "Requirement already satisfied: exceptiongroup in /usr/local/lib/python3.10/dist-packages (from anndata->cellxgene-census==1.10.2->PyTDC) (1.2.1)\n",
            "Requirement already satisfied: h5py>=3.1 in /usr/local/lib/python3.10/dist-packages (from anndata->cellxgene-census==1.10.2->PyTDC) (3.9.0)\n",
            "Requirement already satisfied: natsort in /usr/local/lib/python3.10/dist-packages (from anndata->cellxgene-census==1.10.2->PyTDC) (8.4.0)\n",
            "Requirement already satisfied: soupsieve>1.2 in /usr/local/lib/python3.10/dist-packages (from beautifulsoup4>=4.10.0->gget==0.28.4->PyTDC) (2.5)\n",
            "Requirement already satisfied: zipp>=0.5 in /usr/local/lib/python3.10/dist-packages (from importlib-metadata>=6.6.0->yapf==0.40.2->PyTDC) (3.18.1)\n",
            "Requirement already satisfied: contourpy>=1.0.1 in /usr/local/lib/python3.10/dist-packages (from matplotlib->gget==0.28.4->PyTDC) (1.2.1)\n",
            "Requirement already satisfied: cycler>=0.10 in /usr/local/lib/python3.10/dist-packages (from matplotlib->gget==0.28.4->PyTDC) (0.12.1)\n",
            "Requirement already satisfied: fonttools>=4.22.0 in /usr/local/lib/python3.10/dist-packages (from matplotlib->gget==0.28.4->PyTDC) (4.51.0)\n",
            "Requirement already satisfied: kiwisolver>=1.0.1 in /usr/local/lib/python3.10/dist-packages (from matplotlib->gget==0.28.4->PyTDC) (1.4.5)\n",
            "Requirement already satisfied: pyparsing>=2.3.1 in /usr/local/lib/python3.10/dist-packages (from matplotlib->gget==0.28.4->PyTDC) (3.1.2)\n",
            "Requirement already satisfied: protobuf>=3.0.0 in /usr/local/lib/python3.10/dist-packages (from mysql-connector-python<=8.0.29,>=8.0.5->gget==0.28.4->PyTDC) (3.20.3)\n",
            "Requirement already satisfied: llvmlite<0.42,>=0.41.0dev0 in /usr/local/lib/python3.10/dist-packages (from numba>=0.58.0->tiledbsoma==1.7.2->PyTDC) (0.41.1)\n",
            "Requirement already satisfied: six>=1.5 in /usr/local/lib/python3.10/dist-packages (from python-dateutil>=2.8.2->pandas==2.1.4->PyTDC) (1.16.0)\n",
            "Collecting aiobotocore<3.0.0,>=2.5.4 (from s3fs>=2021.06.1->cellxgene-census==1.10.2->PyTDC)\n",
            "  Downloading aiobotocore-2.12.3-py3-none-any.whl (76 kB)\n",
            "\u001b[2K     \u001b[90m━━━━━━━━━━━━━━━━━━━━━━━━━━━━━━━━━━━━━━━━\u001b[0m \u001b[32m76.5/76.5 kB\u001b[0m \u001b[31m9.1 MB/s\u001b[0m eta \u001b[36m0:00:00\u001b[0m\n",
            "\u001b[?25hCollecting fsspec>=2023.5.0 (from huggingface_hub==0.20.3->PyTDC)\n",
            "  Downloading fsspec-2024.3.1-py3-none-any.whl (171 kB)\n",
            "\u001b[2K     \u001b[90m━━━━━━━━━━━━━━━━━━━━━━━━━━━━━━━━━━━━━━━━\u001b[0m \u001b[32m172.0/172.0 kB\u001b[0m \u001b[31m17.1 MB/s\u001b[0m eta \u001b[36m0:00:00\u001b[0m\n",
            "\u001b[?25hRequirement already satisfied: aiohttp!=4.0.0a0,!=4.0.0a1 in /usr/local/lib/python3.10/dist-packages (from s3fs>=2021.06.1->cellxgene-census==1.10.2->PyTDC) (3.9.5)\n",
            "Collecting legacy-api-wrap>=1.4 (from scanpy>=1.9.2->tiledbsoma==1.7.2->PyTDC)\n",
            "  Downloading legacy_api_wrap-1.4-py3-none-any.whl (15 kB)\n",
            "Requirement already satisfied: networkx>=2.7 in /usr/local/lib/python3.10/dist-packages (from scanpy>=1.9.2->tiledbsoma==1.7.2->PyTDC) (3.3)\n",
            "Requirement already satisfied: patsy in /usr/local/lib/python3.10/dist-packages (from scanpy>=1.9.2->tiledbsoma==1.7.2->PyTDC) (0.5.6)\n",
            "Collecting pynndescent>=0.5 (from scanpy>=1.9.2->tiledbsoma==1.7.2->PyTDC)\n",
            "  Downloading pynndescent-0.5.12-py3-none-any.whl (56 kB)\n",
            "\u001b[2K     \u001b[90m━━━━━━━━━━━━━━━━━━━━━━━━━━━━━━━━━━━━━━━━\u001b[0m \u001b[32m56.8/56.8 kB\u001b[0m \u001b[31m7.3 MB/s\u001b[0m eta \u001b[36m0:00:00\u001b[0m\n",
            "\u001b[?25hINFO: pip is looking at multiple versions of scanpy to determine which version is compatible with other requirements. This could take a while.\n",
            "Collecting scanpy>=1.9.2 (from tiledbsoma==1.7.2->PyTDC)\n",
            "  Downloading scanpy-1.10.0-py3-none-any.whl (2.1 MB)\n",
            "\u001b[2K     \u001b[90m━━━━━━━━━━━━━━━━━━━━━━━━━━━━━━━━━━━━━━━━\u001b[0m \u001b[32m2.1/2.1 MB\u001b[0m \u001b[31m35.6 MB/s\u001b[0m eta \u001b[36m0:00:00\u001b[0m\n",
            "\u001b[?25h  Downloading scanpy-1.9.8-py3-none-any.whl (2.0 MB)\n",
            "\u001b[2K     \u001b[90m━━━━━━━━━━━━━━━━━━━━━━━━━━━━━━━━━━━━━━━━\u001b[0m \u001b[32m2.0/2.0 MB\u001b[0m \u001b[31m36.4 MB/s\u001b[0m eta \u001b[36m0:00:00\u001b[0m\n",
            "\u001b[?25h  Downloading scanpy-1.9.7-py3-none-any.whl (2.0 MB)\n",
            "\u001b[2K     \u001b[90m━━━━━━━━━━━━━━━━━━━━━━━━━━━━━━━━━━━━━━━━\u001b[0m \u001b[32m2.0/2.0 MB\u001b[0m \u001b[31m37.7 MB/s\u001b[0m eta \u001b[36m0:00:00\u001b[0m\n",
            "\u001b[?25h  Downloading scanpy-1.9.6-py3-none-any.whl (2.0 MB)\n",
            "\u001b[2K     \u001b[90m━━━━━━━━━━━━━━━━━━━━━━━━━━━━━━━━━━━━━━━━\u001b[0m \u001b[32m2.0/2.0 MB\u001b[0m \u001b[31m36.3 MB/s\u001b[0m eta \u001b[36m0:00:00\u001b[0m\n",
            "\u001b[?25hCollecting session-info (from scanpy>=1.9.2->tiledbsoma==1.7.2->PyTDC)\n",
            "  Downloading session_info-1.0.0.tar.gz (24 kB)\n",
            "  Preparing metadata (setup.py) ... \u001b[?25l\u001b[?25hdone\n",
            "Requirement already satisfied: statsmodels>=0.10.0rc2 in /usr/local/lib/python3.10/dist-packages (from scanpy>=1.9.2->tiledbsoma==1.7.2->PyTDC) (0.14.2)\n",
            "Collecting umap-learn>=0.3.10 (from scanpy>=1.9.2->tiledbsoma==1.7.2->PyTDC)\n",
            "  Downloading umap_learn-0.5.6-py3-none-any.whl (85 kB)\n",
            "\u001b[2K     \u001b[90m━━━━━━━━━━━━━━━━━━━━━━━━━━━━━━━━━━━━━━━━\u001b[0m \u001b[32m85.7/85.7 kB\u001b[0m \u001b[31m11.1 MB/s\u001b[0m eta \u001b[36m0:00:00\u001b[0m\n",
            "\u001b[?25hCollecting botorch==0.10.0 (from ax-platform->DeepPurpose->PyTDC)\n",
            "  Downloading botorch-0.10.0-py3-none-any.whl (613 kB)\n",
            "\u001b[2K     \u001b[90m━━━━━━━━━━━━━━━━━━━━━━━━━━━━━━━━━━━━━━━━\u001b[0m \u001b[32m613.1/613.1 kB\u001b[0m \u001b[31m24.5 MB/s\u001b[0m eta \u001b[36m0:00:00\u001b[0m\n",
            "\u001b[?25hRequirement already satisfied: jinja2 in /usr/local/lib/python3.10/dist-packages (from ax-platform->DeepPurpose->PyTDC) (3.1.3)\n",
            "Requirement already satisfied: plotly>=5.12.0 in /usr/local/lib/python3.10/dist-packages (from ax-platform->DeepPurpose->PyTDC) (5.15.0)\n",
            "Collecting typeguard (from ax-platform->DeepPurpose->PyTDC)\n",
            "  Downloading typeguard-4.2.1-py3-none-any.whl (34 kB)\n",
            "Collecting pyre-extensions (from ax-platform->DeepPurpose->PyTDC)\n",
            "  Downloading pyre_extensions-0.0.30-py3-none-any.whl (12 kB)\n",
            "Requirement already satisfied: multipledispatch in /usr/local/lib/python3.10/dist-packages (from botorch==0.10.0->ax-platform->DeepPurpose->PyTDC) (1.0.0)\n",
            "Requirement already satisfied: mpmath<=1.3,>=0.19 in /usr/local/lib/python3.10/dist-packages (from botorch==0.10.0->ax-platform->DeepPurpose->PyTDC) (1.3.0)\n",
            "Collecting pyro-ppl>=1.8.4 (from botorch==0.10.0->ax-platform->DeepPurpose->PyTDC)\n",
            "  Downloading pyro_ppl-1.9.0-py3-none-any.whl (745 kB)\n",
            "\u001b[2K     \u001b[90m━━━━━━━━━━━━━━━━━━━━━━━━━━━━━━━━━━━━━━━━\u001b[0m \u001b[32m745.2/745.2 kB\u001b[0m \u001b[31m38.9 MB/s\u001b[0m eta \u001b[36m0:00:00\u001b[0m\n",
            "\u001b[?25hCollecting gpytorch==1.11 (from botorch==0.10.0->ax-platform->DeepPurpose->PyTDC)\n",
            "  Downloading gpytorch-1.11-py3-none-any.whl (266 kB)\n",
            "\u001b[2K     \u001b[90m━━━━━━━━━━━━━━━━━━━━━━━━━━━━━━━━━━━━━━━━\u001b[0m \u001b[32m266.1/266.1 kB\u001b[0m \u001b[31m24.5 MB/s\u001b[0m eta \u001b[36m0:00:00\u001b[0m\n",
            "\u001b[?25hCollecting linear-operator==0.5.1 (from botorch==0.10.0->ax-platform->DeepPurpose->PyTDC)\n",
            "  Downloading linear_operator-0.5.1-py3-none-any.whl (174 kB)\n",
            "\u001b[2K     \u001b[90m━━━━━━━━━━━━━━━━━━━━━━━━━━━━━━━━━━━━━━━━\u001b[0m \u001b[32m174.5/174.5 kB\u001b[0m \u001b[31m20.3 MB/s\u001b[0m eta \u001b[36m0:00:00\u001b[0m\n",
            "\u001b[?25hCollecting jaxtyping>=0.2.9 (from linear-operator==0.5.1->botorch==0.10.0->ax-platform->DeepPurpose->PyTDC)\n",
            "  Downloading jaxtyping-0.2.28-py3-none-any.whl (40 kB)\n",
            "\u001b[2K     \u001b[90m━━━━━━━━━━━━━━━━━━━━━━━━━━━━━━━━━━━━━━━━\u001b[0m \u001b[32m40.7/40.7 kB\u001b[0m \u001b[31m4.9 MB/s\u001b[0m eta \u001b[36m0:00:00\u001b[0m\n",
            "\u001b[?25hCollecting typeguard (from ax-platform->DeepPurpose->PyTDC)\n",
            "  Downloading typeguard-2.13.3-py3-none-any.whl (17 kB)\n",
            "Requirement already satisfied: sympy in /usr/local/lib/python3.10/dist-packages (from torch->DeepPurpose->PyTDC) (1.12)\n",
            "Collecting nvidia-cuda-nvrtc-cu12==12.1.105 (from torch->DeepPurpose->PyTDC)\n",
            "  Using cached nvidia_cuda_nvrtc_cu12-12.1.105-py3-none-manylinux1_x86_64.whl (23.7 MB)\n",
            "Collecting nvidia-cuda-runtime-cu12==12.1.105 (from torch->DeepPurpose->PyTDC)\n",
            "  Using cached nvidia_cuda_runtime_cu12-12.1.105-py3-none-manylinux1_x86_64.whl (823 kB)\n",
            "Collecting nvidia-cuda-cupti-cu12==12.1.105 (from torch->DeepPurpose->PyTDC)\n",
            "  Using cached nvidia_cuda_cupti_cu12-12.1.105-py3-none-manylinux1_x86_64.whl (14.1 MB)\n",
            "Collecting nvidia-cudnn-cu12==8.9.2.26 (from torch->DeepPurpose->PyTDC)\n",
            "  Using cached nvidia_cudnn_cu12-8.9.2.26-py3-none-manylinux1_x86_64.whl (731.7 MB)\n",
            "Collecting nvidia-cublas-cu12==12.1.3.1 (from torch->DeepPurpose->PyTDC)\n",
            "  Using cached nvidia_cublas_cu12-12.1.3.1-py3-none-manylinux1_x86_64.whl (410.6 MB)\n",
            "Collecting nvidia-cufft-cu12==11.0.2.54 (from torch->DeepPurpose->PyTDC)\n",
            "  Using cached nvidia_cufft_cu12-11.0.2.54-py3-none-manylinux1_x86_64.whl (121.6 MB)\n",
            "Collecting nvidia-curand-cu12==10.3.2.106 (from torch->DeepPurpose->PyTDC)\n",
            "  Using cached nvidia_curand_cu12-10.3.2.106-py3-none-manylinux1_x86_64.whl (56.5 MB)\n",
            "Collecting nvidia-cusolver-cu12==11.4.5.107 (from torch->DeepPurpose->PyTDC)\n",
            "  Using cached nvidia_cusolver_cu12-11.4.5.107-py3-none-manylinux1_x86_64.whl (124.2 MB)\n",
            "Collecting nvidia-cusparse-cu12==12.1.0.106 (from torch->DeepPurpose->PyTDC)\n",
            "  Using cached nvidia_cusparse_cu12-12.1.0.106-py3-none-manylinux1_x86_64.whl (196.0 MB)\n",
            "Collecting nvidia-nccl-cu12==2.19.3 (from torch->DeepPurpose->PyTDC)\n",
            "  Using cached nvidia_nccl_cu12-2.19.3-py3-none-manylinux1_x86_64.whl (166.0 MB)\n",
            "Collecting nvidia-nvtx-cu12==12.1.105 (from torch->DeepPurpose->PyTDC)\n",
            "  Using cached nvidia_nvtx_cu12-12.1.105-py3-none-manylinux1_x86_64.whl (99 kB)\n",
            "Requirement already satisfied: triton==2.2.0 in /usr/local/lib/python3.10/dist-packages (from torch->DeepPurpose->PyTDC) (2.2.0)\n",
            "Collecting nvidia-nvjitlink-cu12 (from nvidia-cusolver-cu12==11.4.5.107->torch->DeepPurpose->PyTDC)\n",
            "  Using cached nvidia_nvjitlink_cu12-12.4.127-py3-none-manylinux2014_x86_64.whl (21.1 MB)\n",
            "Requirement already satisfied: hyperopt in /usr/local/lib/python3.10/dist-packages (from dgllife->DeepPurpose->PyTDC) (0.2.7)\n",
            "Requirement already satisfied: setuptools>=18.5 in /usr/local/lib/python3.10/dist-packages (from ipython->gget==0.28.4->PyTDC) (67.7.2)\n",
            "Collecting jedi>=0.16 (from ipython->gget==0.28.4->PyTDC)\n",
            "  Downloading jedi-0.19.1-py2.py3-none-any.whl (1.6 MB)\n",
            "\u001b[2K     \u001b[90m━━━━━━━━━━━━━━━━━━━━━━━━━━━━━━━━━━━━━━━━\u001b[0m \u001b[32m1.6/1.6 MB\u001b[0m \u001b[31m38.2 MB/s\u001b[0m eta \u001b[36m0:00:00\u001b[0m\n",
            "\u001b[?25hRequirement already satisfied: decorator in /usr/local/lib/python3.10/dist-packages (from ipython->gget==0.28.4->PyTDC) (4.4.2)\n",
            "Requirement already satisfied: pickleshare in /usr/local/lib/python3.10/dist-packages (from ipython->gget==0.28.4->PyTDC) (0.7.5)\n",
            "Requirement already satisfied: traitlets>=4.2 in /usr/local/lib/python3.10/dist-packages (from ipython->gget==0.28.4->PyTDC) (5.7.1)\n",
            "Requirement already satisfied: prompt-toolkit!=3.0.0,!=3.0.1,<3.1.0,>=2.0.0 in /usr/local/lib/python3.10/dist-packages (from ipython->gget==0.28.4->PyTDC) (3.0.43)\n",
            "Requirement already satisfied: pygments in /usr/local/lib/python3.10/dist-packages (from ipython->gget==0.28.4->PyTDC) (2.16.1)\n",
            "Requirement already satisfied: backcall in /usr/local/lib/python3.10/dist-packages (from ipython->gget==0.28.4->PyTDC) (0.2.0)\n",
            "Requirement already satisfied: matplotlib-inline in /usr/local/lib/python3.10/dist-packages (from ipython->gget==0.28.4->PyTDC) (0.1.7)\n",
            "Requirement already satisfied: pexpect>4.3 in /usr/local/lib/python3.10/dist-packages (from ipython->gget==0.28.4->PyTDC) (4.9.0)\n",
            "Requirement already satisfied: ipykernel>=4.5.1 in /usr/local/lib/python3.10/dist-packages (from ipywidgets->gget==0.28.4->PyTDC) (5.5.6)\n",
            "Requirement already satisfied: ipython-genutils~=0.2.0 in /usr/local/lib/python3.10/dist-packages (from ipywidgets->gget==0.28.4->PyTDC) (0.2.0)\n",
            "Requirement already satisfied: widgetsnbextension~=3.6.0 in /usr/local/lib/python3.10/dist-packages (from ipywidgets->gget==0.28.4->PyTDC) (3.6.6)\n",
            "Requirement already satisfied: jupyterlab-widgets>=1.0.0 in /usr/local/lib/python3.10/dist-packages (from ipywidgets->gget==0.28.4->PyTDC) (3.0.10)\n",
            "Requirement already satisfied: autograd>=1.5 in /usr/local/lib/python3.10/dist-packages (from lifelines->DeepPurpose->PyTDC) (1.6.2)\n",
            "Collecting autograd-gamma>=0.3 (from lifelines->DeepPurpose->PyTDC)\n",
            "  Downloading autograd-gamma-0.5.0.tar.gz (4.0 kB)\n",
            "  Preparing metadata (setup.py) ... \u001b[?25l\u001b[?25hdone\n",
            "Collecting formulaic>=0.2.2 (from lifelines->DeepPurpose->PyTDC)\n",
            "  Downloading formulaic-1.0.1-py3-none-any.whl (94 kB)\n",
            "\u001b[2K     \u001b[90m━━━━━━━━━━━━━━━━━━━━━━━━━━━━━━━━━━━━━━━━\u001b[0m \u001b[32m94.2/94.2 kB\u001b[0m \u001b[31m11.1 MB/s\u001b[0m eta \u001b[36m0:00:00\u001b[0m\n",
            "\u001b[?25hRequirement already satisfied: xarray in /usr/local/lib/python3.10/dist-packages (from pandas-flavor->DeepPurpose->PyTDC) (2023.7.0)\n",
            "Requirement already satisfied: wcwidth in /usr/local/lib/python3.10/dist-packages (from prettytable->DeepPurpose->PyTDC) (0.2.13)\n",
            "Collecting mock (from subword-nmt->DeepPurpose->PyTDC)\n",
            "  Downloading mock-5.1.0-py3-none-any.whl (30 kB)\n",
            "Requirement already satisfied: absl-py>=0.4 in /usr/local/lib/python3.10/dist-packages (from tensorboard->DeepPurpose->PyTDC) (1.4.0)\n",
            "Requirement already satisfied: grpcio>=1.48.2 in /usr/local/lib/python3.10/dist-packages (from tensorboard->DeepPurpose->PyTDC) (1.62.2)\n",
            "Requirement already satisfied: google-auth<3,>=1.6.3 in /usr/local/lib/python3.10/dist-packages (from tensorboard->DeepPurpose->PyTDC) (2.27.0)\n",
            "Requirement already satisfied: google-auth-oauthlib<2,>=0.5 in /usr/local/lib/python3.10/dist-packages (from tensorboard->DeepPurpose->PyTDC) (1.2.0)\n",
            "Requirement already satisfied: markdown>=2.6.8 in /usr/local/lib/python3.10/dist-packages (from tensorboard->DeepPurpose->PyTDC) (3.6)\n",
            "Requirement already satisfied: tensorboard-data-server<0.8.0,>=0.7.0 in /usr/local/lib/python3.10/dist-packages (from tensorboard->DeepPurpose->PyTDC) (0.7.2)\n",
            "Requirement already satisfied: werkzeug>=1.0.1 in /usr/local/lib/python3.10/dist-packages (from tensorboard->DeepPurpose->PyTDC) (3.0.2)\n",
            "Collecting botocore<1.34.70,>=1.34.41 (from aiobotocore<3.0.0,>=2.5.4->s3fs>=2021.06.1->cellxgene-census==1.10.2->PyTDC)\n",
            "  Downloading botocore-1.34.69-py3-none-any.whl (12.0 MB)\n",
            "\u001b[2K     \u001b[90m━━━━━━━━━━━━━━━━━━━━━━━━━━━━━━━━━━━━━━━━\u001b[0m \u001b[32m12.0/12.0 MB\u001b[0m \u001b[31m37.7 MB/s\u001b[0m eta \u001b[36m0:00:00\u001b[0m\n",
            "\u001b[?25hRequirement already satisfied: wrapt<2.0.0,>=1.10.10 in /usr/local/lib/python3.10/dist-packages (from aiobotocore<3.0.0,>=2.5.4->s3fs>=2021.06.1->cellxgene-census==1.10.2->PyTDC) (1.14.1)\n",
            "Collecting aioitertools<1.0.0,>=0.5.1 (from aiobotocore<3.0.0,>=2.5.4->s3fs>=2021.06.1->cellxgene-census==1.10.2->PyTDC)\n",
            "  Downloading aioitertools-0.11.0-py3-none-any.whl (23 kB)\n",
            "Requirement already satisfied: aiosignal>=1.1.2 in /usr/local/lib/python3.10/dist-packages (from aiohttp!=4.0.0a0,!=4.0.0a1->s3fs>=2021.06.1->cellxgene-census==1.10.2->PyTDC) (1.3.1)\n",
            "Requirement already satisfied: frozenlist>=1.1.1 in /usr/local/lib/python3.10/dist-packages (from aiohttp!=4.0.0a0,!=4.0.0a1->s3fs>=2021.06.1->cellxgene-census==1.10.2->PyTDC) (1.4.1)\n",
            "Requirement already satisfied: multidict<7.0,>=4.5 in /usr/local/lib/python3.10/dist-packages (from aiohttp!=4.0.0a0,!=4.0.0a1->s3fs>=2021.06.1->cellxgene-census==1.10.2->PyTDC) (6.0.5)\n",
            "Requirement already satisfied: yarl<2.0,>=1.0 in /usr/local/lib/python3.10/dist-packages (from aiohttp!=4.0.0a0,!=4.0.0a1->s3fs>=2021.06.1->cellxgene-census==1.10.2->PyTDC) (1.9.4)\n",
            "Requirement already satisfied: async-timeout<5.0,>=4.0 in /usr/local/lib/python3.10/dist-packages (from aiohttp!=4.0.0a0,!=4.0.0a1->s3fs>=2021.06.1->cellxgene-census==1.10.2->PyTDC) (4.0.3)\n",
            "Requirement already satisfied: future>=0.15.2 in /usr/local/lib/python3.10/dist-packages (from autograd>=1.5->lifelines->DeepPurpose->PyTDC) (0.18.3)\n",
            "Collecting interface-meta>=1.2.0 (from formulaic>=0.2.2->lifelines->DeepPurpose->PyTDC)\n",
            "  Downloading interface_meta-1.3.0-py3-none-any.whl (14 kB)\n",
            "Requirement already satisfied: cachetools<6.0,>=2.0.0 in /usr/local/lib/python3.10/dist-packages (from google-auth<3,>=1.6.3->tensorboard->DeepPurpose->PyTDC) (5.3.3)\n",
            "Requirement already satisfied: pyasn1-modules>=0.2.1 in /usr/local/lib/python3.10/dist-packages (from google-auth<3,>=1.6.3->tensorboard->DeepPurpose->PyTDC) (0.4.0)\n",
            "Requirement already satisfied: rsa<5,>=3.1.4 in /usr/local/lib/python3.10/dist-packages (from google-auth<3,>=1.6.3->tensorboard->DeepPurpose->PyTDC) (4.9)\n",
            "Requirement already satisfied: requests-oauthlib>=0.7.0 in /usr/local/lib/python3.10/dist-packages (from google-auth-oauthlib<2,>=0.5->tensorboard->DeepPurpose->PyTDC) (1.3.1)\n",
            "Requirement already satisfied: jupyter-client in /usr/local/lib/python3.10/dist-packages (from ipykernel>=4.5.1->ipywidgets->gget==0.28.4->PyTDC) (6.1.12)\n",
            "Requirement already satisfied: tornado>=4.2 in /usr/local/lib/python3.10/dist-packages (from ipykernel>=4.5.1->ipywidgets->gget==0.28.4->PyTDC) (6.3.3)\n",
            "Requirement already satisfied: parso<0.9.0,>=0.8.3 in /usr/local/lib/python3.10/dist-packages (from jedi>=0.16->ipython->gget==0.28.4->PyTDC) (0.8.4)\n",
            "Requirement already satisfied: ptyprocess>=0.5 in /usr/local/lib/python3.10/dist-packages (from pexpect>4.3->ipython->gget==0.28.4->PyTDC) (0.7.0)\n",
            "Requirement already satisfied: tenacity>=6.2.0 in /usr/local/lib/python3.10/dist-packages (from plotly>=5.12.0->ax-platform->DeepPurpose->PyTDC) (8.2.3)\n",
            "Requirement already satisfied: MarkupSafe>=2.1.1 in /usr/local/lib/python3.10/dist-packages (from werkzeug>=1.0.1->tensorboard->DeepPurpose->PyTDC) (2.1.5)\n",
            "Requirement already satisfied: notebook>=4.4.1 in /usr/local/lib/python3.10/dist-packages (from widgetsnbextension~=3.6.0->ipywidgets->gget==0.28.4->PyTDC) (6.5.5)\n",
            "Requirement already satisfied: cloudpickle in /usr/local/lib/python3.10/dist-packages (from hyperopt->dgllife->DeepPurpose->PyTDC) (2.2.1)\n",
            "Requirement already satisfied: py4j in /usr/local/lib/python3.10/dist-packages (from hyperopt->dgllife->DeepPurpose->PyTDC) (0.10.9.7)\n",
            "Collecting typing-inspect (from pyre-extensions->ax-platform->DeepPurpose->PyTDC)\n",
            "  Downloading typing_inspect-0.9.0-py3-none-any.whl (8.8 kB)\n",
            "Collecting stdlib_list (from session-info->scanpy>=1.9.2->tiledbsoma==1.7.2->PyTDC)\n",
            "  Downloading stdlib_list-0.10.0-py3-none-any.whl (79 kB)\n",
            "\u001b[2K     \u001b[90m━━━━━━━━━━━━━━━━━━━━━━━━━━━━━━━━━━━━━━━━\u001b[0m \u001b[32m79.8/79.8 kB\u001b[0m \u001b[31m9.3 MB/s\u001b[0m eta \u001b[36m0:00:00\u001b[0m\n",
            "\u001b[?25hCollecting jmespath<2.0.0,>=0.7.1 (from botocore<1.34.70,>=1.34.41->aiobotocore<3.0.0,>=2.5.4->s3fs>=2021.06.1->cellxgene-census==1.10.2->PyTDC)\n",
            "  Downloading jmespath-1.0.1-py3-none-any.whl (20 kB)\n",
            "Requirement already satisfied: pyzmq<25,>=17 in /usr/local/lib/python3.10/dist-packages (from notebook>=4.4.1->widgetsnbextension~=3.6.0->ipywidgets->gget==0.28.4->PyTDC) (23.2.1)\n",
            "Requirement already satisfied: argon2-cffi in /usr/local/lib/python3.10/dist-packages (from notebook>=4.4.1->widgetsnbextension~=3.6.0->ipywidgets->gget==0.28.4->PyTDC) (23.1.0)\n",
            "Requirement already satisfied: jupyter-core>=4.6.1 in /usr/local/lib/python3.10/dist-packages (from notebook>=4.4.1->widgetsnbextension~=3.6.0->ipywidgets->gget==0.28.4->PyTDC) (5.7.2)\n",
            "Requirement already satisfied: nbformat in /usr/local/lib/python3.10/dist-packages (from notebook>=4.4.1->widgetsnbextension~=3.6.0->ipywidgets->gget==0.28.4->PyTDC) (5.10.4)\n",
            "Requirement already satisfied: nbconvert>=5 in /usr/local/lib/python3.10/dist-packages (from notebook>=4.4.1->widgetsnbextension~=3.6.0->ipywidgets->gget==0.28.4->PyTDC) (6.5.4)\n",
            "Requirement already satisfied: nest-asyncio>=1.5 in /usr/local/lib/python3.10/dist-packages (from notebook>=4.4.1->widgetsnbextension~=3.6.0->ipywidgets->gget==0.28.4->PyTDC) (1.6.0)\n",
            "Requirement already satisfied: Send2Trash>=1.8.0 in /usr/local/lib/python3.10/dist-packages (from notebook>=4.4.1->widgetsnbextension~=3.6.0->ipywidgets->gget==0.28.4->PyTDC) (1.8.3)\n",
            "Requirement already satisfied: terminado>=0.8.3 in /usr/local/lib/python3.10/dist-packages (from notebook>=4.4.1->widgetsnbextension~=3.6.0->ipywidgets->gget==0.28.4->PyTDC) (0.18.1)\n",
            "Requirement already satisfied: prometheus-client in /usr/local/lib/python3.10/dist-packages (from notebook>=4.4.1->widgetsnbextension~=3.6.0->ipywidgets->gget==0.28.4->PyTDC) (0.20.0)\n",
            "Requirement already satisfied: nbclassic>=0.4.7 in /usr/local/lib/python3.10/dist-packages (from notebook>=4.4.1->widgetsnbextension~=3.6.0->ipywidgets->gget==0.28.4->PyTDC) (1.0.0)\n",
            "Requirement already satisfied: pyasn1<0.7.0,>=0.4.6 in /usr/local/lib/python3.10/dist-packages (from pyasn1-modules>=0.2.1->google-auth<3,>=1.6.3->tensorboard->DeepPurpose->PyTDC) (0.6.0)\n",
            "Requirement already satisfied: opt-einsum>=2.3.2 in /usr/local/lib/python3.10/dist-packages (from pyro-ppl>=1.8.4->botorch==0.10.0->ax-platform->DeepPurpose->PyTDC) (3.3.0)\n",
            "Collecting pyro-api>=0.1.1 (from pyro-ppl>=1.8.4->botorch==0.10.0->ax-platform->DeepPurpose->PyTDC)\n",
            "  Downloading pyro_api-0.1.2-py3-none-any.whl (11 kB)\n",
            "Requirement already satisfied: oauthlib>=3.0.0 in /usr/local/lib/python3.10/dist-packages (from requests-oauthlib>=0.7.0->google-auth-oauthlib<2,>=0.5->tensorboard->DeepPurpose->PyTDC) (3.2.2)\n",
            "Collecting mypy-extensions>=0.3.0 (from typing-inspect->pyre-extensions->ax-platform->DeepPurpose->PyTDC)\n",
            "  Downloading mypy_extensions-1.0.0-py3-none-any.whl (4.7 kB)\n",
            "Requirement already satisfied: jupyter-server>=1.8 in /usr/local/lib/python3.10/dist-packages (from nbclassic>=0.4.7->notebook>=4.4.1->widgetsnbextension~=3.6.0->ipywidgets->gget==0.28.4->PyTDC) (1.24.0)\n",
            "Requirement already satisfied: notebook-shim>=0.2.3 in /usr/local/lib/python3.10/dist-packages (from nbclassic>=0.4.7->notebook>=4.4.1->widgetsnbextension~=3.6.0->ipywidgets->gget==0.28.4->PyTDC) (0.2.4)\n",
            "Requirement already satisfied: bleach in /usr/local/lib/python3.10/dist-packages (from nbconvert>=5->notebook>=4.4.1->widgetsnbextension~=3.6.0->ipywidgets->gget==0.28.4->PyTDC) (6.1.0)\n",
            "Requirement already satisfied: defusedxml in /usr/local/lib/python3.10/dist-packages (from nbconvert>=5->notebook>=4.4.1->widgetsnbextension~=3.6.0->ipywidgets->gget==0.28.4->PyTDC) (0.7.1)\n",
            "Requirement already satisfied: entrypoints>=0.2.2 in /usr/local/lib/python3.10/dist-packages (from nbconvert>=5->notebook>=4.4.1->widgetsnbextension~=3.6.0->ipywidgets->gget==0.28.4->PyTDC) (0.4)\n",
            "Requirement already satisfied: jupyterlab-pygments in /usr/local/lib/python3.10/dist-packages (from nbconvert>=5->notebook>=4.4.1->widgetsnbextension~=3.6.0->ipywidgets->gget==0.28.4->PyTDC) (0.3.0)\n",
            "Requirement already satisfied: mistune<2,>=0.8.1 in /usr/local/lib/python3.10/dist-packages (from nbconvert>=5->notebook>=4.4.1->widgetsnbextension~=3.6.0->ipywidgets->gget==0.28.4->PyTDC) (0.8.4)\n",
            "Requirement already satisfied: nbclient>=0.5.0 in /usr/local/lib/python3.10/dist-packages (from nbconvert>=5->notebook>=4.4.1->widgetsnbextension~=3.6.0->ipywidgets->gget==0.28.4->PyTDC) (0.10.0)\n",
            "Requirement already satisfied: pandocfilters>=1.4.1 in /usr/local/lib/python3.10/dist-packages (from nbconvert>=5->notebook>=4.4.1->widgetsnbextension~=3.6.0->ipywidgets->gget==0.28.4->PyTDC) (1.5.1)\n",
            "Requirement already satisfied: tinycss2 in /usr/local/lib/python3.10/dist-packages (from nbconvert>=5->notebook>=4.4.1->widgetsnbextension~=3.6.0->ipywidgets->gget==0.28.4->PyTDC) (1.2.1)\n",
            "Requirement already satisfied: fastjsonschema>=2.15 in /usr/local/lib/python3.10/dist-packages (from nbformat->notebook>=4.4.1->widgetsnbextension~=3.6.0->ipywidgets->gget==0.28.4->PyTDC) (2.19.1)\n",
            "Requirement already satisfied: jsonschema>=2.6 in /usr/local/lib/python3.10/dist-packages (from nbformat->notebook>=4.4.1->widgetsnbextension~=3.6.0->ipywidgets->gget==0.28.4->PyTDC) (4.19.2)\n",
            "Requirement already satisfied: argon2-cffi-bindings in /usr/local/lib/python3.10/dist-packages (from argon2-cffi->notebook>=4.4.1->widgetsnbextension~=3.6.0->ipywidgets->gget==0.28.4->PyTDC) (21.2.0)\n",
            "Requirement already satisfied: jsonschema-specifications>=2023.03.6 in /usr/local/lib/python3.10/dist-packages (from jsonschema>=2.6->nbformat->notebook>=4.4.1->widgetsnbextension~=3.6.0->ipywidgets->gget==0.28.4->PyTDC) (2023.12.1)\n",
            "Requirement already satisfied: referencing>=0.28.4 in /usr/local/lib/python3.10/dist-packages (from jsonschema>=2.6->nbformat->notebook>=4.4.1->widgetsnbextension~=3.6.0->ipywidgets->gget==0.28.4->PyTDC) (0.34.0)\n",
            "Requirement already satisfied: rpds-py>=0.7.1 in /usr/local/lib/python3.10/dist-packages (from jsonschema>=2.6->nbformat->notebook>=4.4.1->widgetsnbextension~=3.6.0->ipywidgets->gget==0.28.4->PyTDC) (0.18.0)\n",
            "Requirement already satisfied: anyio<4,>=3.1.0 in /usr/local/lib/python3.10/dist-packages (from jupyter-server>=1.8->nbclassic>=0.4.7->notebook>=4.4.1->widgetsnbextension~=3.6.0->ipywidgets->gget==0.28.4->PyTDC) (3.7.1)\n",
            "Requirement already satisfied: websocket-client in /usr/local/lib/python3.10/dist-packages (from jupyter-server>=1.8->nbclassic>=0.4.7->notebook>=4.4.1->widgetsnbextension~=3.6.0->ipywidgets->gget==0.28.4->PyTDC) (1.7.0)\n",
            "Requirement already satisfied: cffi>=1.0.1 in /usr/local/lib/python3.10/dist-packages (from argon2-cffi-bindings->argon2-cffi->notebook>=4.4.1->widgetsnbextension~=3.6.0->ipywidgets->gget==0.28.4->PyTDC) (1.16.0)\n",
            "Requirement already satisfied: webencodings in /usr/local/lib/python3.10/dist-packages (from bleach->nbconvert>=5->notebook>=4.4.1->widgetsnbextension~=3.6.0->ipywidgets->gget==0.28.4->PyTDC) (0.5.1)\n",
            "Requirement already satisfied: sniffio>=1.1 in /usr/local/lib/python3.10/dist-packages (from anyio<4,>=3.1.0->jupyter-server>=1.8->nbclassic>=0.4.7->notebook>=4.4.1->widgetsnbextension~=3.6.0->ipywidgets->gget==0.28.4->PyTDC) (1.3.1)\n",
            "Requirement already satisfied: pycparser in /usr/local/lib/python3.10/dist-packages (from cffi>=1.0.1->argon2-cffi-bindings->argon2-cffi->notebook>=4.4.1->widgetsnbextension~=3.6.0->ipywidgets->gget==0.28.4->PyTDC) (2.22)\n",
            "Building wheels for collected packages: PyTDC, biopython, DeepPurpose, wget, autograd-gamma, session-info\n",
            "  Building wheel for PyTDC (setup.py) ... \u001b[?25l\u001b[?25hdone\n",
            "  Created wheel for PyTDC: filename=PyTDC-0.4.12-py3-none-any.whl size=157260 sha256=52cf42329610c90d0e767bfeae2b637deaf4050c8de5860b412492dd8c258685\n",
            "  Stored in directory: /root/.cache/pip/wheels/08/a1/42/716d4ee2dc172dea050bfc2fed1c846c00c78c35cc5c0bd936\n",
            "  Building wheel for biopython (setup.py) ... \u001b[?25l\u001b[?25hdone\n",
            "  Created wheel for biopython: filename=biopython-1.78-cp310-cp310-linux_x86_64.whl size=2522738 sha256=f4233e8266d1a5eb319e42a4318dce8ad26a2587587bcc9c1a8e9c3cceb6ef74\n",
            "  Stored in directory: /root/.cache/pip/wheels/f4/78/7e/80aee85fcec55f1b378951070af38ebf4d1d147264bc475fc1\n",
            "  Building wheel for DeepPurpose (setup.py) ... \u001b[?25l\u001b[?25hdone\n",
            "  Created wheel for DeepPurpose: filename=DeepPurpose-0.1.5-py3-none-any.whl size=155660 sha256=cb64b1c1f4e27cb17726e03e7973c363e5c0fccbe99139ae54925f548fa2c78a\n",
            "  Stored in directory: /root/.cache/pip/wheels/f5/22/41/df41608686118cc70f8ad0e1914afa2859d507a8558cefdeaf\n",
            "  Building wheel for wget (setup.py) ... \u001b[?25l\u001b[?25hdone\n",
            "  Created wheel for wget: filename=wget-3.2-py3-none-any.whl size=9656 sha256=fb6a49da500856d6667d056dcaf76686411283826d0706788bdd5fcdcffb4181\n",
            "  Stored in directory: /root/.cache/pip/wheels/8b/f1/7f/5c94f0a7a505ca1c81cd1d9208ae2064675d97582078e6c769\n",
            "  Building wheel for autograd-gamma (setup.py) ... \u001b[?25l\u001b[?25hdone\n",
            "  Created wheel for autograd-gamma: filename=autograd_gamma-0.5.0-py3-none-any.whl size=4030 sha256=500ffded38e484b7969d137f157b2ff3826f16c9fde93f58fdfc4b2ce5e73902\n",
            "  Stored in directory: /root/.cache/pip/wheels/25/cc/e0/ef2969164144c899fedb22b338f6703e2b9cf46eeebf254991\n",
            "  Building wheel for session-info (setup.py) ... \u001b[?25l\u001b[?25hdone\n",
            "  Created wheel for session-info: filename=session_info-1.0.0-py3-none-any.whl size=8026 sha256=11949874b8befbe8c2b6f7dabb9e76aa780a963a3feb3d6ad9422624aeda1a4a\n",
            "  Stored in directory: /root/.cache/pip/wheels/6a/aa/b9/eb5d4031476ec10802795b97ccf937b9bd998d68a9b268765a\n",
            "Successfully built PyTDC biopython DeepPurpose wget autograd-gamma session-info\n",
            "Installing collected packages: wget, pyro-api, fuzzywuzzy, dataclasses, array-api-compat, typeguard, tqdm, stdlib_list, pydantic-core, openpyxl, nvidia-nvtx-cu12, nvidia-nvjitlink-cu12, nvidia-nccl-cu12, nvidia-curand-cu12, nvidia-cufft-cu12, nvidia-cuda-runtime-cu12, nvidia-cuda-nvrtc-cu12, nvidia-cuda-cupti-cu12, nvidia-cublas-cu12, numpy, mysql-connector-python, mypy-extensions, mock, jmespath, jedi, interface-meta, fsspec, aioitertools, yapf, typing-inspect, tiledb, subword-nmt, session-info, rdkit, pydantic, pandas, nvidia-cusparse-cu12, nvidia-cudnn-cu12, jaxtyping, botocore, biothings-client, biopython, pyre-extensions, nvidia-cusolver-cu12, mygene, formulaic, autograd-gamma, anndata, aiobotocore, somacore, seaborn, s3fs, pynndescent, pandas-flavor, lifelines, dgllife, umap-learn, pyro-ppl, linear-operator, descriptastorus, scanpy, gpytorch, tiledbsoma, botorch, cellxgene-census, gget, ax-platform, DeepPurpose, PyTDC\n",
            "  Attempting uninstall: tqdm\n",
            "    Found existing installation: tqdm 4.66.2\n",
            "    Uninstalling tqdm-4.66.2:\n",
            "      Successfully uninstalled tqdm-4.66.2\n",
            "  Attempting uninstall: pydantic-core\n",
            "    Found existing installation: pydantic_core 2.18.1\n",
            "    Uninstalling pydantic_core-2.18.1:\n",
            "      Successfully uninstalled pydantic_core-2.18.1\n",
            "  Attempting uninstall: openpyxl\n",
            "    Found existing installation: openpyxl 3.1.2\n",
            "    Uninstalling openpyxl-3.1.2:\n",
            "      Successfully uninstalled openpyxl-3.1.2\n",
            "  Attempting uninstall: numpy\n",
            "    Found existing installation: numpy 1.25.2\n",
            "    Uninstalling numpy-1.25.2:\n",
            "      Successfully uninstalled numpy-1.25.2\n",
            "  Attempting uninstall: fsspec\n",
            "    Found existing installation: fsspec 2023.6.0\n",
            "    Uninstalling fsspec-2023.6.0:\n",
            "      Successfully uninstalled fsspec-2023.6.0\n",
            "  Attempting uninstall: pydantic\n",
            "    Found existing installation: pydantic 2.7.0\n",
            "    Uninstalling pydantic-2.7.0:\n",
            "      Successfully uninstalled pydantic-2.7.0\n",
            "  Attempting uninstall: pandas\n",
            "    Found existing installation: pandas 2.0.3\n",
            "    Uninstalling pandas-2.0.3:\n",
            "      Successfully uninstalled pandas-2.0.3\n",
            "  Attempting uninstall: seaborn\n",
            "    Found existing installation: seaborn 0.13.1\n",
            "    Uninstalling seaborn-0.13.1:\n",
            "      Successfully uninstalled seaborn-0.13.1\n",
            "\u001b[31mERROR: pip's dependency resolver does not currently take into account all the packages that are installed. This behaviour is the source of the following dependency conflicts.\n",
            "gcsfs 2023.6.0 requires fsspec==2023.6.0, but you have fsspec 2024.3.1 which is incompatible.\n",
            "google-colab 1.0.0 requires pandas==2.0.3, but you have pandas 2.1.4 which is incompatible.\u001b[0m\u001b[31m\n",
            "\u001b[0mSuccessfully installed DeepPurpose-0.1.5 PyTDC-0.4.12 aiobotocore-2.12.3 aioitertools-0.11.0 anndata-0.10.7 array-api-compat-1.6 autograd-gamma-0.5.0 ax-platform-0.3.7 biopython-1.78 biothings-client-0.3.1 botocore-1.34.69 botorch-0.10.0 cellxgene-census-1.10.2 dataclasses-0.6 descriptastorus-2.6.1 dgllife-0.3.2 formulaic-1.0.1 fsspec-2024.3.1 fuzzywuzzy-0.18.0 gget-0.28.4 gpytorch-1.11 interface-meta-1.3.0 jaxtyping-0.2.28 jedi-0.19.1 jmespath-1.0.1 lifelines-0.28.0 linear-operator-0.5.1 mock-5.1.0 mygene-3.2.2 mypy-extensions-1.0.0 mysql-connector-python-8.0.29 numpy-1.26.4 nvidia-cublas-cu12-12.1.3.1 nvidia-cuda-cupti-cu12-12.1.105 nvidia-cuda-nvrtc-cu12-12.1.105 nvidia-cuda-runtime-cu12-12.1.105 nvidia-cudnn-cu12-8.9.2.26 nvidia-cufft-cu12-11.0.2.54 nvidia-curand-cu12-10.3.2.106 nvidia-cusolver-cu12-11.4.5.107 nvidia-cusparse-cu12-12.1.0.106 nvidia-nccl-cu12-2.19.3 nvidia-nvjitlink-cu12-12.4.127 nvidia-nvtx-cu12-12.1.105 openpyxl-3.0.10 pandas-2.1.4 pandas-flavor-0.6.0 pydantic-2.6.3 pydantic-core-2.16.3 pynndescent-0.5.12 pyre-extensions-0.0.30 pyro-api-0.1.2 pyro-ppl-1.9.0 rdkit-2023.9.5 s3fs-2024.3.1 scanpy-1.9.6 seaborn-0.12.2 session-info-1.0.0 somacore-1.0.7 stdlib_list-0.10.0 subword-nmt-0.3.8 tiledb-0.25.1 tiledbsoma-1.7.2 tqdm-4.65.0 typeguard-2.13.3 typing-inspect-0.9.0 umap-learn-0.5.6 wget-3.2 yapf-0.40.2\n"
          ]
        },
        {
          "data": {
            "application/vnd.colab-display-data+json": {
              "id": "86a9958c182147ca8b5d5ab2c492f34d",
              "pip_warning": {
                "packages": [
                  "dataclasses"
                ]
              }
            }
          },
          "metadata": {},
          "output_type": "display_data"
        }
      ],
      "source": [
        "!pip install PyTDC"
      ]
    },
    {
      "cell_type": "code",
      "execution_count": null,
      "metadata": {
        "id": "hlr9fXO5wlii"
      },
      "outputs": [],
      "source": [
        "import numpy as np\n",
        "import pandas as pd\n",
        "import matplotlib.pyplot as plt"
      ]
    },
    {
      "cell_type": "code",
      "execution_count": null,
      "metadata": {
        "colab": {
          "base_uri": "https://localhost:8080/"
        },
        "id": "jfKzUl2XwEZB",
        "outputId": "7f8e5a45-12db-4c12-cfb9-c39b0ffa7328"
      },
      "outputs": [
        {
          "name": "stderr",
          "output_type": "stream",
          "text": [
            "Downloading...\n",
            "100%|██████████| 43.7k/43.7k [00:00<00:00, 785kiB/s]\n",
            "Loading...\n",
            "Done!\n"
          ]
        }
      ],
      "source": [
        "from tdc.single_pred import ADME\n",
        "data = ADME(name = 'Bioavailability_Ma')\n",
        "split = data.get_split()"
      ]
    },
    {
      "cell_type": "code",
      "execution_count": null,
      "metadata": {
        "colab": {
          "base_uri": "https://localhost:8080/",
          "height": 564
        },
        "id": "URn26-4m4dfy",
        "outputId": "ee8be3b0-1f8e-4826-c396-3709f9b4b186"
      },
      "outputs": [
        {
          "data": {
            "image/png": "[encoded data removed]",
            "text/plain": [
              "<Figure size 800x600 with 1 Axes>"
            ]
          },
          "metadata": {},
          "output_type": "display_data"
        }
      ],
      "source": [
        "# Visualize the split\n",
        "\n",
        "train_size = len(split['train'])\n",
        "valid_size = len(split['valid'])\n",
        "test_size = len(split['test'])\n",
        "\n",
        "label = ['Train', 'Test', 'Validation']\n",
        "sizes = [train_size, test_size, valid_size]\n",
        "\n",
        "total_size = train_size + valid_size + test_size\n",
        "percentage = [size / total_size * 100 for size in sizes]\n",
        "\n",
        "\n",
        "plt.figure(figsize=(8, 6))\n",
        "bins = plt.bar(label, sizes, color=['blue', 'orange', 'red'], width=0.2)\n",
        "plt.xlabel('Dataset')\n",
        "plt.ylabel('Number of Samples')\n",
        "plt.title('Dataset Split')\n",
        "for bin, percentage in zip(bins, percentage):\n",
        "    plt.text(bin.get_x() + bin.get_width() / 2, bin.get_height() + 5, f'{percentage:.2f}%', ha='center', va='bottom')\n",
        "plt.show()"
      ]
    },
    {
      "cell_type": "markdown",
      "metadata": {
        "id": "-4XjqiJQhTfv"
      },
      "source": [
        "Feature Generation\n",
        "---"
      ]
    },
    {
      "cell_type": "markdown",
      "metadata": {
        "id": "jDR2bsbH0xYS"
      },
      "source": [
        "| Descriptor | Description | Category |\n",
        "|------------|-------------|----------|\n",
        "| Mv         | Mean atomic van der Waals volume (scaled on carbon atom) | Constitutional descriptors |\n",
        "| MS         | Mean electrotopological state | Constitutional descriptors |\n",
        "| nAT        | Number of atoms | Constitutional descriptors |\n",
        "| nS         | Number of sulfur atoms | Constitutional descriptors |\n",
        "| ARR        | Aromatic ratio | Constitutional descriptors |\n",
        "| PJI2       | 2D Petitjean shape index | Topological descriptors |\n",
        "| PW2        | Path/walk 2-Randic shape index | Topological descriptors |\n",
        "| ZM2v       | Second Zagreb index by valence vertex degrees | Topological descriptors |\n",
        "| SRW05      | Self-returning walk count of order 05 | Walk and path counts |\n",
        "| X4Av       | Average valence connectivity index chi-4 | Connectivity indices |\n",
        "| J3D        | 3D-Balaban index | Geometrical descriptors |\n",
        "| RDF020m    | Radial distribution function − 2.0/weighted by atomic masses | RDF descriptors |\n",
        "| RDF035m    | Radial distribution function − 3.5/weighted by atomic masses | RDF descriptors |\n",
        "| RDF075m    | Radial distribution function − 7.5/weighted by atomic masses | RDF descriptors |\n",
        "| C-001      | CH3R/CH4 | Atom-centred fragments |\n",
        "| C-003      | CHR3 | Atom-centred fragments |\n",
        "| C-011      | CR3X | Atom-centred fragments |\n",
        "| C-017      | CR2 | Atom-centred fragments |\n",
        "| H-047      | H attached to C1(sp3)/C0(sp2) | Atom-centred fragments |\n",
        "| H-048      | H attached to C2(sp3)/C1(sp2)/C0(sp) | Atom-centred fragments |\n",
        "| H-049      | H attached to C3(sp3)/C2(sp2)/C3(sp2)/C3(sp) | Atom-centred fragments |\n",
        "| H-052      | H attached to C0(sp3) with 1X attached to next C | Atom-centred fragments |\n",
        "| S-107      | R2S/RS-SR | Atom-centred fragments |\n",
        "| EEig03x    | Eigenvalue 03 from edge adj. matrix weighted by edge degrees | Edge adjacency indices |\n",
        "| ESpm01d    | Spectral moment 01 from edge adj. matrix weighted by dipole moments | Edge adjacency indices |\n",
        "| ALOGP2     | Squared Ghose–Crippen octanol–water partition coefficient (log P2) | Molecular properties |\n",
        "| TPSA(Tot)  | Topological polar surface area using N, O, S, P polar contributions | Molecular properties |\n",
        "| nCconj     | Number of non-aromatic conjugated C(sp2) | Functional group counts |\n",
        "| nRCONHR    | Number of secondary amides (aliphatic) | Functional group counts |\n"
      ]
    },
    {
      "cell_type": "markdown",
      "metadata": {
        "id": "tHHJiv_W6DLT"
      },
      "source": [
        "PPBR\n",
        "\n",
        "-----"
      ]
    },
    {
      "cell_type": "code",
      "execution_count": null,
      "metadata": {
        "id": "WhSY8T1l3lAf"
      },
      "outputs": [],
      "source": [
        "from rdkit import Chem\n",
        "from rdkit.Chem import AllChem\n",
        "from rdkit.Chem import Descriptors\n",
        "from rdkit.Chem import EState\n",
        "from rdkit.Chem import rdMolDescriptors\n",
        "from rdkit.Chem import GraphDescriptors\n",
        "from rdkit.Chem import Crippen\n",
        "from rdkit.Chem import QED\n",
        "import numpy as np\n",
        "\n",
        "# Mean atomic van der Waals volume (scaled on carbon atom)\n",
        "def mv(drug):\n",
        "    m = Chem.MolFromSmiles(drug)\n",
        "    carbon_scale = (4/3) * np.pi * Chem.GetPeriodicTable().GetRvdw(6)\n",
        "    total = 0.0\n",
        "    for i in m.GetAtoms():\n",
        "      vol = (4/3) * np.pi * Chem.GetPeriodicTable().GetRvdw(i.GetAtomicNum())\n",
        "      vol = vol / carbon_scale\n",
        "      total += vol\n",
        "    vol = total / len(m.GetAtoms())\n",
        "    return vol\n",
        "\n",
        "# Mean electrotopological state\n",
        "def ms(drug):\n",
        "    m = Chem.MolFromSmiles(drug)\n",
        "    estates = EState.EStateIndices(m)\n",
        "    return np.mean(estates)\n",
        "\n",
        "# Number of atoms\n",
        "def nat(drug):\n",
        "    m = Chem.MolFromSmiles(drug)\n",
        "    return len(m.GetAtoms())\n",
        "\n",
        "# Number of sulfur atoms\n",
        "def ns(drug):\n",
        "    m = Chem.MolFromSmiles(drug)\n",
        "    count = 0\n",
        "    for i in m.GetAtoms():\n",
        "        if i.GetAtomicNum() == 16:\n",
        "            count += 1\n",
        "    return count\n",
        "\n",
        "# Aromatic ratio\n",
        "def arr(drug):\n",
        "    m = Chem.MolFromSmiles(drug)\n",
        "    aromatic_count = 0\n",
        "    for i in m.GetAtoms():\n",
        "        if i.GetIsAromatic():\n",
        "            aromatic_count += 1\n",
        "    return aromatic_count / len(m.GetAtoms())\n",
        "\n",
        "# Average valence connectivity index chi-4\n",
        "def x4av(drug):\n",
        "    m = Chem.MolFromSmiles(drug)\n",
        "    return rdMolDescriptors.CalcChi4v(m)\n",
        "\n",
        "# Spectral moment 01 from edge adj. matrix weighted by dipole moments\n",
        "def espm01d(drug):\n",
        "  m = Chem.MolFromSmiles(drug)\n",
        "  electronegativities = {\n",
        "        'H': 2.20, 'C': 2.55, 'N': 3.04, 'O': 3.44, 'F': 3.98,\n",
        "        'P': 2.19, 'S': 2.58, 'Cl': 3.16, 'Br': 2.96, 'I': 2.66\n",
        "    }\n",
        "  num_atoms = m.GetNumAtoms()\n",
        "  dipole_moments = []\n",
        "  for atom in m.GetAtoms():\n",
        "    symbol = atom.GetSymbol()\n",
        "    electronegativity = electronegativities.get(symbol, 0.0)\n",
        "    dipole_moments.append(electronegativity)\n",
        "  edge_adjacency_matrix = np.zeros((num_atoms, num_atoms))\n",
        "  for bond in m.GetBonds():\n",
        "    i, j = bond.GetBeginAtomIdx(), bond.GetEndAtomIdx()\n",
        "    edge_adjacency_matrix[i, j] = edge_adjacency_matrix[j, i] = 1\n",
        "  eigenvalues = eigvalsh(edge_adjacency_matrix)\n",
        "  weighted_eigenvalues = eigenvalues * np.array(dipole_moments)\n",
        "  espm01d = np.sum(weighted_eigenvalues)\n",
        "  # print(\"ESpm01d:\",espm01d)\n",
        "  return espm01d\n",
        "\n",
        "# Squared Ghose–Crippen octanol–water partition coefficient (log P^2)\n",
        "def alogp2(drug):\n",
        "    m = Chem.MolFromSmiles(drug)\n",
        "    return Crippen.MolLogP(m) ** 2\n",
        "\n",
        "# Topological polar surface area using N, O, S, P polar contributions\n",
        "def tpsa(drug):\n",
        "    m = Chem.MolFromSmiles(drug)\n",
        "    return rdMolDescriptors.CalcTPSA(m)\n",
        "\n",
        "# Number of non-aromatic conjugated C(sp^2)\n",
        "def nCconj(drug):\n",
        "    m = Chem.MolFromSmiles(drug)\n",
        "    count = 0\n",
        "    for i in m.GetAtoms():\n",
        "        if i.GetHybridization() == Chem.rdchem.HybridizationType.SP2 and not i.GetIsAromatic():\n",
        "            count += 1\n",
        "    return count\n",
        "\n",
        "# Number of secondary amides (aliphatic)\n",
        "def nRCONHR(drug):\n",
        "    m = Chem.MolFromSmiles(drug)\n",
        "    count = 0\n",
        "    for bond in m.GetBonds():\n",
        "        atom1 = bond.GetBeginAtom()\n",
        "        atom2 = bond.GetEndAtom()\n",
        "        if atom1.GetSymbol() == 'C' and atom2.GetSymbol() == 'O' and atom2.GetFormalCharge() == 0:\n",
        "            neighbors = [a.GetSymbol() for a in atom1.GetNeighbors()]\n",
        "            if 'N' in neighbors:\n",
        "                count += 1\n",
        "    return count"
      ]
    },
    {
      "cell_type": "markdown",
      "metadata": {
        "id": "xpGSQRodW9T1"
      },
      "source": [
        "BIO\n",
        "\n",
        "----"
      ]
    },
    {
      "cell_type": "code",
      "execution_count": null,
      "metadata": {
        "id": "0R0gSYFrCmbO"
      },
      "outputs": [],
      "source": [
        "from rdkit import Chem\n",
        "from rdkit.Chem import AllChem\n",
        "from rdkit.Chem import Descriptors\n",
        "from rdkit.Chem import EState\n",
        "from rdkit.Chem import rdMolDescriptors\n",
        "from rdkit.Chem import GraphDescriptors\n",
        "from rdkit.Chem import Crippen\n",
        "from rdkit.Chem import QED\n",
        "import numpy as np\n",
        "from numpy.linalg import eigvals\n",
        "from itertools import combinations\n",
        "from numpy.linalg import eigvalsh\n",
        "from scipy.linalg import eigvalsh\n",
        "\n",
        "# Molecular weight\n",
        "def MW(drug):\n",
        "  m = Chem.MolFromSmiles(drug)\n",
        "  # print(\"MW:\", Descriptors.MolWt(m))\n",
        "  return Descriptors.MolWt(m)\n",
        "\n",
        "# Mean electrotopological state\n",
        "def Ms(drug):\n",
        "  m = Chem.MolFromSmiles(drug)\n",
        "  estates = EState.EStateIndices(m)\n",
        "  # print(\"Ms:\", np.mean(estates))\n",
        "  return np.mean(estates)\n",
        "\n",
        "# number of 5 membered rings\n",
        "def nR05(drug):\n",
        "  m = Chem.MolFromSmiles(drug)\n",
        "  # print(\"nR05:\", len(Chem.GetSSSR(m)))\n",
        "  return len(Chem.GetSSSR(m))\n",
        "\n",
        "# 2-Path Kier alpha-modified shape index\n",
        "def S2K(drug):\n",
        "    m = Chem.MolFromSmiles(drug)\n",
        "    kier_alpha = 0.5\n",
        "    adjacency_matrix = Chem.GetAdjacencyMatrix(m)\n",
        "    eigenvalues = np.linalg.eigvalsh(adjacency_matrix)\n",
        "    kasi = sum(np.exp(-kier_alpha * eigenvalues))\n",
        "    two_path_extension = 0\n",
        "    num_atoms = m.GetNumAtoms()\n",
        "    for i in range(num_atoms):\n",
        "        for j in range(i + 1, num_atoms):\n",
        "            bond = m.GetBondBetweenAtoms(i, j)\n",
        "            if bond is not None:\n",
        "                bond_order = bond.GetBondTypeAsDouble()\n",
        "                two_path_extension += np.exp(-kier_alpha * bond_order)\n",
        "    twopkasi = kasi + two_path_extension\n",
        "    # print(\"S2K:\", twopkasi)\n",
        "    return twopkasi\n",
        "\n",
        "#\tFirst Zagreb index by valence vertex degrees\n",
        "def ZM1V(drug):\n",
        "  m = Chem.MolFromSmiles(drug)\n",
        "  valence_degrees = [atom.GetDegree() for atom in m.GetAtoms()]\n",
        "  M1 = sum(deg**2 for deg in valence_degrees)\n",
        "  # print(\"ZM1V:\", M1)\n",
        "  return M1\n",
        "\n",
        "#\tKier benzene-likeliness index\n",
        "def BLI(drug):\n",
        "  m = Chem.MolFromSmiles(drug)\n",
        "  num_carbon_atoms = len([atom for atom in m.GetAtoms() if atom.GetAtomicNum() == 6])\n",
        "  num_cc_bonds = len([bond for bond in m.GetBonds() if bond.GetBondTypeAsDouble() == 1])\n",
        "  num_double_bonds = len([bond for bond in m.GetBonds() if bond.GetBondTypeAsDouble() == 2])\n",
        "  bli = 1.6 * num_carbon_atoms - 0.4 * num_cc_bonds - 0.6 * num_double_bonds\n",
        "  # print(\"BLI:\", bli)\n",
        "  return bli\n",
        "\n",
        "# Second Mohar index TI2\n",
        "def TI2(drug):\n",
        "  m = Chem.MolFromSmiles(drug)\n",
        "  num_atoms = m.GetNumAtoms()\n",
        "  num_bonds = m.GetNumBonds()\n",
        "  sum_valence_squares = sum(atom.GetTotalValence()**2 for atom in m.GetAtoms())\n",
        "  sum_degree_squares = sum(bond.GetBeginAtom().GetTotalDegree()**2 + bond.GetEndAtom().GetTotalDegree()**2 for bond in m.GetBonds())\n",
        "  TI2 = sum_valence_squares - sum_degree_squares\n",
        "  # print(\"TI2:\",TI2)\n",
        "  return TI2\n",
        "\n",
        "# D/Dr11\tDistance/detour ring index of order 11\n",
        "def Dr11(drug):\n",
        "    m = Chem.MolFromSmiles(drug)\n",
        "    num_vertices = m.GetAtoms()\n",
        "    pairs = combinations(num_vertices, 2)\n",
        "    eleven_apart_pairs = [(u, v) for (u, v) in pairs if len(Chem.GetShortestPath(m, u.GetIdx(), v.GetIdx())) == 11]\n",
        "    dr11 = 0\n",
        "    for u, v in eleven_apart_pairs:\n",
        "        shortest_path_length = len(Chem.GetShortestPath(m, u.GetIdx(), v.GetIdx()))\n",
        "        actual_path_length = shortest_path_length + 11\n",
        "        detour = actual_path_length - shortest_path_length\n",
        "        dr11 += detour\n",
        "    # print(\"dr11:\",dr11)\n",
        "    return dr11\n",
        "\n",
        "# Average connectivity index chi-1\n",
        "def X1A(drug):\n",
        "  m = Chem.MolFromSmiles(drug)\n",
        "  num_atoms = m.GetNumAtoms()\n",
        "  sum_degrees = sum(atom.GetDegree() for atom in m.GetAtoms())\n",
        "  x1A = (sum_degrees / num_atoms) - 1\n",
        "  # print(\"X1A:\", x1A)\n",
        "  return x1A\n",
        "\n",
        "# Average valence connectivity index chi-0\n",
        "def X0Av(drug):\n",
        "  m = Chem.MolFromSmiles(drug)\n",
        "  num_atoms = m.GetNumAtoms()\n",
        "  sum_degrees = sum(atom.GetDegree() for atom in m.GetAtoms())\n",
        "  x0Av = sum_degrees / num_atoms\n",
        "  # print(\"X0Av:\",x0Av)\n",
        "  return x0Av\n",
        "\n",
        "# Valence connectivity index chi-3\n",
        "def X3v(drug):\n",
        "  m = Chem.MolFromSmiles(drug)\n",
        "  num_atoms = m.GetNumAtoms()\n",
        "  x3v = sum(atom.GetDegree() * (atom.GetDegree() - 1) * (atom.GetDegree() - 2) / 6 for atom in m.GetAtoms())\n",
        "  # print(\"X3V:\", x3v)\n",
        "  return x3v\n",
        "\n",
        "# Molecular walk count of order 02 (Walk and path counts)\n",
        "def MWC02(drug):\n",
        "  m = Chem.MolFromSmiles(drug)\n",
        "  mwc02 = 0\n",
        "  num_atoms = m.GetNumAtoms()\n",
        "  for i in range(num_atoms):\n",
        "    for j in range(i+1, num_atoms):\n",
        "      if m.GetBondBetweenAtoms(i, j) is not None:\n",
        "        mwc02 += 1\n",
        "  # print(\"MWCO2:\",mwc02)\n",
        "  return mwc02\n",
        "\n",
        "# Spectral moment 01 from edge adj. matrix weighted by dipole moments\n",
        "def ESpm01d(drug):\n",
        "  m = Chem.MolFromSmiles(drug)\n",
        "  electronegativities = {\n",
        "        'H': 2.20, 'C': 2.55, 'N': 3.04, 'O': 3.44, 'F': 3.98,\n",
        "        'P': 2.19, 'S': 2.58, 'Cl': 3.16, 'Br': 2.96, 'I': 2.66\n",
        "    }\n",
        "  num_atoms = m.GetNumAtoms()\n",
        "  dipole_moments = []\n",
        "  for atom in m.GetAtoms():\n",
        "    symbol = atom.GetSymbol()\n",
        "    electronegativity = electronegativities.get(symbol, 0.0)\n",
        "    dipole_moments.append(electronegativity)\n",
        "  edge_adjacency_matrix = np.zeros((num_atoms, num_atoms))\n",
        "  for bond in m.GetBonds():\n",
        "    i, j = bond.GetBeginAtomIdx(), bond.GetEndAtomIdx()\n",
        "    edge_adjacency_matrix[i, j] = edge_adjacency_matrix[j, i] = 1\n",
        "  eigenvalues = eigvalsh(edge_adjacency_matrix)\n",
        "  weighted_eigenvalues = eigenvalues * np.array(dipole_moments)\n",
        "  espm01d = np.sum(weighted_eigenvalues)\n",
        "  # print(\"ESpm01d:\",espm01d)\n",
        "  return espm01d\n",
        "\n",
        "# Moriguchi octanol–water partition coefficient\n",
        "def MLOGP(drug):\n",
        "  m = Chem.MolFromSmiles(drug)\n",
        "  m_logp = Crippen.MolLogP(m)\n",
        "  # print(\"MLOGP:\",m_logp)\n",
        "  return m_logp\n",
        "\n",
        "# Number of non-aromatic conjugated\n",
        "def nCconj(drug):\n",
        "  m = Chem.MolFromSmiles(drug)\n",
        "  count = 0\n",
        "  for i in m.GetAtoms():\n",
        "    if i.GetHybridization() == Chem.rdchem.HybridizationType.SP2 and not i.GetIsAromatic():\n",
        "      count += 1\n",
        "  # print(\"nCconj:\", count)\n",
        "  return count\n",
        "\n",
        "# Lipinski's rule\n",
        "def lipinski(drug):\n",
        "    m = Chem.MolFromSmiles(drug)\n",
        "    properties = QED.properties(m)\n",
        "    count = 0\n",
        "    if properties.MW <= 500:\n",
        "        count += 1\n",
        "    if properties.ALOGP <= 5:\n",
        "        count += 1\n",
        "    if properties.HBD <= 5:\n",
        "        count += 1\n",
        "    if properties.HBA <= 10:\n",
        "        count += 1\n",
        "    return count"
      ]
    },
    {
      "cell_type": "markdown",
      "metadata": {
        "id": "hFCYf7uZ5fqT"
      },
      "source": [
        "Feature Aggregation\n",
        "---"
      ]
    },
    {
      "cell_type": "markdown",
      "metadata": {
        "id": "RFZjHBJTxllC"
      },
      "source": [
        "PPBR\n",
        "\n",
        "------"
      ]
    },
    {
      "cell_type": "code",
      "execution_count": null,
      "metadata": {
        "id": "50IuawJp5deA"
      },
      "outputs": [],
      "source": [
        "def feature_gen_ppbr(drug_sequences):\n",
        "  features = []\n",
        "  for drug in drug_sequences:\n",
        "      mv_out = mv(drug)\n",
        "      ms_out = ms(drug)\n",
        "      nat_out = nat(drug)\n",
        "      ns_out = ns(drug)\n",
        "      arr_out = arr(drug)\n",
        "      x4av_out = x4av(drug)\n",
        "      espm01d_out = espm01d(drug)\n",
        "      alogp2_out = alogp2(drug)\n",
        "      tpsa_out = tpsa(drug)\n",
        "      nCconj_out = nCconj(drug)\n",
        "      nRCONHR_out = nRCONHR(drug)\n",
        "      features.append([mv_out, ms_out, nat_out, ns_out, arr_out, x4av_out, espm01d_out, alogp2_out, tpsa_out, nCconj_out, nRCONHR_out])\n",
        "\n",
        "  features_arr_ppbr = np.array(features)\n",
        "  return features_arr_ppbr"
      ]
    },
    {
      "cell_type": "code",
      "execution_count": null,
      "metadata": {
        "id": "MeN3M6Lt44yR"
      },
      "outputs": [],
      "source": [
        "def feature_gen_ppbr_single(drug):\n",
        "  features = []\n",
        "  mv_out = mv(drug)\n",
        "  ms_out = ms(drug)\n",
        "  nat_out = nat(drug)\n",
        "  ns_out = ns(drug)\n",
        "  arr_out = arr(drug)\n",
        "  x4av_out = x4av(drug)\n",
        "  espm01d_out = espm01d(drug)\n",
        "  alogp2_out = alogp2(drug)\n",
        "  tpsa_out = tpsa(drug)\n",
        "  nCconj_out = nCconj(drug)\n",
        "  nRCONHR_out = nRCONHR(drug)\n",
        "  features.append([mv_out, ms_out, nat_out, ns_out, arr_out, x4av_out, espm01d_out, alogp2_out, tpsa_out, nCconj_out, nRCONHR_out])\n",
        "  features_arr = np.array(features)\n",
        "  return features_arr"
      ]
    },
    {
      "cell_type": "markdown",
      "metadata": {
        "id": "H3uhnlRDDaIH"
      },
      "source": [
        "BIO\n",
        "\n",
        "-----"
      ]
    },
    {
      "cell_type": "code",
      "execution_count": null,
      "metadata": {
        "id": "aqmk5UkIDUxn"
      },
      "outputs": [],
      "source": [
        "def feature_gen_bio(drug_sequences):\n",
        "  features = []\n",
        "  for drug in drug_sequences:\n",
        "      MW_out = MW(drug)\n",
        "      Ms_out = Ms(drug)\n",
        "      nR05_out = nR05(drug)\n",
        "      S2K_out = S2K(drug)\n",
        "      ZM1V_out = ZM1V(drug)\n",
        "      BLI_out = BLI(drug)\n",
        "      TI2_out = TI2(drug)\n",
        "      Dr11_out = Dr11(drug)\n",
        "      X1A_out = X1A(drug)\n",
        "      X0Av_out = X0Av(drug)\n",
        "      X3v_out = X3v(drug)\n",
        "      MWC02_out = MWC02(drug)\n",
        "      ESpm01d_out = ESpm01d(drug)\n",
        "      MLOGP_out = MLOGP(drug)\n",
        "      nCconj_out = nCconj(drug)\n",
        "      lipinski_out = lipinski(drug)\n",
        "      features.append([MW_out, Ms_out, nR05_out, S2K_out, ZM1V_out, BLI_out, TI2_out, Dr11_out, X1A_out, X0Av_out, X3v_out, MWC02_out, ESpm01d_out, MLOGP_out, nCconj_out, lipinski_out])\n",
        "  features_arr_bio = np.array(features)\n",
        "  return features_arr_bio\n",
        "\n"
      ]
    },
    {
      "cell_type": "markdown",
      "metadata": {
        "id": "-pt0oawO5rjm"
      },
      "source": [
        "Feature Normalization\n",
        "---"
      ]
    },
    {
      "cell_type": "markdown",
      "metadata": {
        "id": "PXuAqGSe2Jsy"
      },
      "source": [
        "PPBR\n",
        "\n",
        "------"
      ]
    },
    {
      "cell_type": "code",
      "execution_count": null,
      "metadata": {
        "id": "t_XUA0dg5uKO"
      },
      "outputs": [],
      "source": [
        "from sklearn.preprocessing import StandardScaler\n",
        "\n",
        "train_features_arr_ppbr = feature_gen_ppbr(split['train']['Drug'])\n",
        "max_finite_value = np.nanmax(train_features_arr_ppbr[np.isfinite(train_features_arr_ppbr)])\n",
        "train_features_arr_ppbr[~np.isfinite(train_features_arr_ppbr)] = max_finite_value\n",
        "test_features_arr_ppbr = feature_gen_ppbr(split['test']['Drug'])\n",
        "valid_features_arr_ppbr = feature_gen_ppbr(split['valid']['Drug'])\n",
        "\n",
        "scaler = StandardScaler()\n",
        "X_scaled_ppbr = scaler.fit_transform(train_features_arr_ppbr)\n",
        "test_X_scaled_ppbr = scaler.transform(test_features_arr_ppbr)\n",
        "valid_X_scaled_ppbr = scaler.transform(valid_features_arr_ppbr)"
      ]
    },
    {
      "cell_type": "markdown",
      "metadata": {
        "id": "l6vKs1vlFc30"
      },
      "source": [
        "BIO\n",
        "\n",
        "-----"
      ]
    },
    {
      "cell_type": "code",
      "execution_count": null,
      "metadata": {
        "id": "4vBrAJwHYWgM"
      },
      "outputs": [],
      "source": [
        "from sklearn.preprocessing import StandardScaler\n",
        "\n",
        "train_features_arr_bio = feature_gen_bio(split['train']['Drug'])\n",
        "max_finite_value = np.nanmax(train_features_arr_bio[np.isfinite(train_features_arr_bio)])\n",
        "train_features_arr_bio[~np.isfinite(train_features_arr_bio)] = max_finite_value\n",
        "test_features_arr_bio = feature_gen_bio(split['test']['Drug'])\n",
        "valid_features_arr_bio = feature_gen_bio(split['valid']['Drug'])\n",
        "\n",
        "scaler = StandardScaler()\n",
        "X_scaled_bio = scaler.fit_transform(train_features_arr_bio)\n",
        "test_X_scaled_bio = scaler.transform(test_features_arr_bio)\n",
        "valid_X_scaled_bio = scaler.transform(valid_features_arr_bio)"
      ]
    },
    {
      "cell_type": "markdown",
      "metadata": {
        "id": "UnHqYQE66Gjt"
      },
      "source": [
        "Models\n",
        "--"
      ]
    },
    {
      "cell_type": "markdown",
      "metadata": {
        "id": "yZVEfesH2WTT"
      },
      "source": [
        "SVM\n",
        "---"
      ]
    },
    {
      "cell_type": "markdown",
      "metadata": {
        "id": "4rvbmVb22XiE"
      },
      "source": [
        "PPBR\n",
        "\n",
        "-----"
      ]
    },
    {
      "cell_type": "code",
      "execution_count": null,
      "metadata": {
        "colab": {
          "base_uri": "https://localhost:8080/"
        },
        "id": "4_irAYbV6H9R",
        "outputId": "68e18f39-6953-403e-e55a-04f5215c34ca"
      },
      "outputs": [
        {
          "name": "stdout",
          "output_type": "stream",
          "text": [
            "Cross-Validation Scores: [0.78640777 0.78640777 0.78431373 0.78431373 0.78431373]\n",
            "Mean Accuracy: 0.7851513420902341\n"
          ]
        }
      ],
      "source": [
        "from sklearn.svm import SVC\n",
        "from sklearn.model_selection import cross_val_score\n",
        "from sklearn.metrics import roc_auc_score, confusion_matrix, cohen_kappa_score, accuracy_score\n",
        "\n",
        "combined_features_ppbr = np.vstack((X_scaled_ppbr, valid_X_scaled_ppbr))\n",
        "combined_labels_ppbr = np.concatenate((split['train']['Y'], split['valid']['Y']))\n",
        "svm_classifier_ppbr = SVC(kernel='linear')\n",
        "cv_scores_ppbr = cross_val_score(svm_classifier_ppbr, combined_features_ppbr, combined_labels_ppbr, cv=5, scoring='accuracy')\n",
        "\n",
        "print(\"Cross-Validation Scores:\", cv_scores_ppbr)\n",
        "print(\"Mean Accuracy:\", cv_scores_ppbr.mean())"
      ]
    },
    {
      "cell_type": "code",
      "execution_count": null,
      "metadata": {
        "colab": {
          "base_uri": "https://localhost:8080/",
          "height": 74
        },
        "id": "LtS330H18a36",
        "outputId": "e83d72c2-bde8-4026-90eb-e010317fcbd6"
      },
      "outputs": [
        {
          "data": {
            "text/html": [
              "<style>#sk-container-id-2 {color: black;background-color: white;}#sk-container-id-2 pre{padding: 0;}#sk-container-id-2 div.sk-toggleable {background-color: white;}#sk-container-id-2 label.sk-toggleable__label {cursor: pointer;display: block;width: 100%;margin-bottom: 0;padding: 0.3em;box-sizing: border-box;text-align: center;}#sk-container-id-2 label.sk-toggleable__label-arrow:before {content: \"▸\";float: left;margin-right: 0.25em;color: #696969;}#sk-container-id-2 label.sk-toggleable__label-arrow:hover:before {color: black;}#sk-container-id-2 div.sk-estimator:hover label.sk-toggleable__label-arrow:before {color: black;}#sk-container-id-2 div.sk-toggleable__content {max-height: 0;max-width: 0;overflow: hidden;text-align: left;background-color: #f0f8ff;}#sk-container-id-2 div.sk-toggleable__content pre {margin: 0.2em;color: black;border-radius: 0.25em;background-color: #f0f8ff;}#sk-container-id-2 input.sk-toggleable__control:checked~div.sk-toggleable__content {max-height: 200px;max-width: 100%;overflow: auto;}#sk-container-id-2 input.sk-toggleable__control:checked~label.sk-toggleable__label-arrow:before {content: \"▾\";}#sk-container-id-2 div.sk-estimator input.sk-toggleable__control:checked~label.sk-toggleable__label {background-color: #d4ebff;}#sk-container-id-2 div.sk-label input.sk-toggleable__control:checked~label.sk-toggleable__label {background-color: #d4ebff;}#sk-container-id-2 input.sk-hidden--visually {border: 0;clip: rect(1px 1px 1px 1px);clip: rect(1px, 1px, 1px, 1px);height: 1px;margin: -1px;overflow: hidden;padding: 0;position: absolute;width: 1px;}#sk-container-id-2 div.sk-estimator {font-family: monospace;background-color: #f0f8ff;border: 1px dotted black;border-radius: 0.25em;box-sizing: border-box;margin-bottom: 0.5em;}#sk-container-id-2 div.sk-estimator:hover {background-color: #d4ebff;}#sk-container-id-2 div.sk-parallel-item::after {content: \"\";width: 100%;border-bottom: 1px solid gray;flex-grow: 1;}#sk-container-id-2 div.sk-label:hover label.sk-toggleable__label {background-color: #d4ebff;}#sk-container-id-2 div.sk-serial::before {content: \"\";position: absolute;border-left: 1px solid gray;box-sizing: border-box;top: 0;bottom: 0;left: 50%;z-index: 0;}#sk-container-id-2 div.sk-serial {display: flex;flex-direction: column;align-items: center;background-color: white;padding-right: 0.2em;padding-left: 0.2em;position: relative;}#sk-container-id-2 div.sk-item {position: relative;z-index: 1;}#sk-container-id-2 div.sk-parallel {display: flex;align-items: stretch;justify-content: center;background-color: white;position: relative;}#sk-container-id-2 div.sk-item::before, #sk-container-id-2 div.sk-parallel-item::before {content: \"\";position: absolute;border-left: 1px solid gray;box-sizing: border-box;top: 0;bottom: 0;left: 50%;z-index: -1;}#sk-container-id-2 div.sk-parallel-item {display: flex;flex-direction: column;z-index: 1;position: relative;background-color: white;}#sk-container-id-2 div.sk-parallel-item:first-child::after {align-self: flex-end;width: 50%;}#sk-container-id-2 div.sk-parallel-item:last-child::after {align-self: flex-start;width: 50%;}#sk-container-id-2 div.sk-parallel-item:only-child::after {width: 0;}#sk-container-id-2 div.sk-dashed-wrapped {border: 1px dashed gray;margin: 0 0.4em 0.5em 0.4em;box-sizing: border-box;padding-bottom: 0.4em;background-color: white;}#sk-container-id-2 div.sk-label label {font-family: monospace;font-weight: bold;display: inline-block;line-height: 1.2em;}#sk-container-id-2 div.sk-label-container {text-align: center;}#sk-container-id-2 div.sk-container {/* jupyter's `normalize.less` sets `[hidden] { display: none; }` but bootstrap.min.css set `[hidden] { display: none !important; }` so we also need the `!important` here to be able to override the default hidden behavior on the sphinx rendered scikit-learn.org. See: https://github.com/scikit-learn/scikit-learn/issues/21755 */display: inline-block !important;position: relative;}#sk-container-id-2 div.sk-text-repr-fallback {display: none;}</style><div id=\"sk-container-id-2\" class=\"sk-top-container\"><div class=\"sk-text-repr-fallback\"><pre>SVC(kernel=&#x27;linear&#x27;)</pre><b>In a Jupyter environment, please rerun this cell to show the HTML representation or trust the notebook. <br />On GitHub, the HTML representation is unable to render, please try loading this page with nbviewer.org.</b></div><div class=\"sk-container\" hidden><div class=\"sk-item\"><div class=\"sk-estimator sk-toggleable\"><input class=\"sk-toggleable__control sk-hidden--visually\" id=\"sk-estimator-id-2\" type=\"checkbox\" checked><label for=\"sk-estimator-id-2\" class=\"sk-toggleable__label sk-toggleable__label-arrow\">SVC</label><div class=\"sk-toggleable__content\"><pre>SVC(kernel=&#x27;linear&#x27;)</pre></div></div></div></div></div>"
            ],
            "text/plain": [
              "SVC(kernel='linear')"
            ]
          },
          "execution_count": 36,
          "metadata": {},
          "output_type": "execute_result"
        }
      ],
      "source": [
        "# Train the model\n",
        "svm_classifier_ppbr.fit(combined_features_ppbr, combined_labels_ppbr)"
      ]
    },
    {
      "cell_type": "code",
      "execution_count": null,
      "metadata": {
        "id": "OszTqdcPzmPe"
      },
      "outputs": [],
      "source": [
        "# Evaluate the model\n",
        "def evaluate_model(model, X, y):\n",
        "    y_pred = model.predict(X)\n",
        "    auc_roc = roc_auc_score(y, y_pred)\n",
        "    tn, fp, fn, tp = confusion_matrix(y, y_pred).ravel()\n",
        "    sensitivity = tp / (tp + fn)\n",
        "    specificity = tn / (tn + fp)\n",
        "    balanced_accuracy = (sensitivity + specificity) / 2\n",
        "    kappa = cohen_kappa_score(y, y_pred)\n",
        "    accuracy = accuracy_score(y, y_pred)\n",
        "\n",
        "    return auc_roc, sensitivity, specificity, balanced_accuracy, kappa, accuracy"
      ]
    },
    {
      "cell_type": "code",
      "execution_count": null,
      "metadata": {
        "colab": {
          "base_uri": "https://localhost:8080/"
        },
        "id": "OZN0cNiRzoul",
        "outputId": "cec9fbfc-6cfe-42c9-f1f1-36ddc5b16665"
      },
      "outputs": [
        {
          "name": "stdout",
          "output_type": "stream",
          "text": [
            "\n",
            "Test Performance:\n",
            "AUC-ROC: 0.5263157894736843\n",
            "Sensitivity: 1.0\n",
            "Specificity: 0.05263157894736842\n",
            "Balanced Accuracy: 0.5263157894736842\n",
            "Cohen's Kappa: 0.07246376811594202\n",
            "Accuracy: 0.71875\n"
          ]
        }
      ],
      "source": [
        "# Evaluate the model on test data\n",
        "auc_roc_test, sensitivity_test, specificity_test, balanced_accuracy_test, kappa_test, accuracy = evaluate_model(svm_classifier_ppbr, test_X_scaled_ppbr, split['test']['Y'])\n",
        "print(\"\\nTest Performance:\")\n",
        "print(\"AUC-ROC:\", auc_roc_test)\n",
        "print(\"Sensitivity:\", sensitivity_test)\n",
        "print(\"Specificity:\", specificity_test)\n",
        "print(\"Balanced Accuracy:\", balanced_accuracy_test)\n",
        "print(\"Cohen's Kappa:\", kappa_test)\n",
        "print(\"Accuracy:\", accuracy)"
      ]
    },
    {
      "cell_type": "code",
      "execution_count": null,
      "metadata": {
        "colab": {
          "base_uri": "https://localhost:8080/",
          "height": 619
        },
        "id": "Fvfe_fSZBT-F",
        "outputId": "79818b72-7fc7-4278-c606-d40651958eae"
      },
      "outputs": [
        {
          "data": {
            "image/png": "[encoded data removed]",
            "text/plain": [
              "<Figure size 1000x600 with 1 Axes>"
            ]
          },
          "metadata": {},
          "output_type": "display_data"
        }
      ],
      "source": [
        "# Feature Importance Plot\n",
        "\n",
        "coefficients = svm_classifier_ppbr.coef_[0]\n",
        "\n",
        "feature_names = [\"Mv\", \"Ms\", \"nAT\", \"nS\", \"ARR\", \"X4Av\", \"ESpm01d\", \"ALOGP2\", \"TPSA\", \"nCconj\", \"nRCONHR\"]\n",
        "\n",
        "sorted_indices = np.argsort(np.abs(coefficients))[::-1]\n",
        "sorted_coefficients = coefficients[sorted_indices]\n",
        "sorted_feature_names = [feature_names[i] for i in sorted_indices]\n",
        "\n",
        "plt.figure(figsize=(10, 6))\n",
        "plt.bar(range(len(coefficients)), sorted_coefficients, tick_label=sorted_feature_names)\n",
        "plt.title('Feature Importance Plot (PPBR) - SVM')\n",
        "plt.xlabel('Features')\n",
        "plt.ylabel('Coefficient')\n",
        "plt.xticks(rotation=90)\n",
        "plt.show()"
      ]
    },
    {
      "cell_type": "markdown",
      "metadata": {
        "id": "_gss5BF4FpjQ"
      },
      "source": [
        "BIO\n",
        "\n",
        "-----"
      ]
    },
    {
      "cell_type": "code",
      "execution_count": null,
      "metadata": {
        "colab": {
          "base_uri": "https://localhost:8080/"
        },
        "id": "ANGW-kTdFnrM",
        "outputId": "c3a01c50-b6da-46e2-caa3-2522f82baea7"
      },
      "outputs": [
        {
          "name": "stdout",
          "output_type": "stream",
          "text": [
            "Cross-Validation Scores: [0.78640777 0.7961165  0.78431373 0.7745098  0.7745098 ]\n",
            "Mean Accuracy: 0.7831715210355987\n"
          ]
        }
      ],
      "source": [
        "from sklearn.svm import SVC\n",
        "from sklearn.model_selection import cross_val_score\n",
        "from sklearn.metrics import roc_auc_score, confusion_matrix, cohen_kappa_score, accuracy_score\n",
        "\n",
        "combined_features_bio = np.vstack((X_scaled_bio, valid_X_scaled_bio))\n",
        "combined_labels_bio = np.concatenate((split['train']['Y'], split['valid']['Y']))\n",
        "svm_classifier_bio = SVC(kernel='linear')\n",
        "cv_scores_bio = cross_val_score(svm_classifier_bio, combined_features_bio, combined_labels_bio, cv=5, scoring='accuracy')\n",
        "\n",
        "print(\"Cross-Validation Scores:\", cv_scores_bio)\n",
        "print(\"Mean Accuracy:\", cv_scores_bio.mean())"
      ]
    },
    {
      "cell_type": "code",
      "execution_count": null,
      "metadata": {
        "colab": {
          "base_uri": "https://localhost:8080/",
          "height": 74
        },
        "id": "OKxWgivx8bhy",
        "outputId": "d9831ba5-3b34-4d34-be7e-944dbfe6b152"
      },
      "outputs": [
        {
          "data": {
            "text/html": [
              "<style>#sk-container-id-3 {color: black;background-color: white;}#sk-container-id-3 pre{padding: 0;}#sk-container-id-3 div.sk-toggleable {background-color: white;}#sk-container-id-3 label.sk-toggleable__label {cursor: pointer;display: block;width: 100%;margin-bottom: 0;padding: 0.3em;box-sizing: border-box;text-align: center;}#sk-container-id-3 label.sk-toggleable__label-arrow:before {content: \"▸\";float: left;margin-right: 0.25em;color: #696969;}#sk-container-id-3 label.sk-toggleable__label-arrow:hover:before {color: black;}#sk-container-id-3 div.sk-estimator:hover label.sk-toggleable__label-arrow:before {color: black;}#sk-container-id-3 div.sk-toggleable__content {max-height: 0;max-width: 0;overflow: hidden;text-align: left;background-color: #f0f8ff;}#sk-container-id-3 div.sk-toggleable__content pre {margin: 0.2em;color: black;border-radius: 0.25em;background-color: #f0f8ff;}#sk-container-id-3 input.sk-toggleable__control:checked~div.sk-toggleable__content {max-height: 200px;max-width: 100%;overflow: auto;}#sk-container-id-3 input.sk-toggleable__control:checked~label.sk-toggleable__label-arrow:before {content: \"▾\";}#sk-container-id-3 div.sk-estimator input.sk-toggleable__control:checked~label.sk-toggleable__label {background-color: #d4ebff;}#sk-container-id-3 div.sk-label input.sk-toggleable__control:checked~label.sk-toggleable__label {background-color: #d4ebff;}#sk-container-id-3 input.sk-hidden--visually {border: 0;clip: rect(1px 1px 1px 1px);clip: rect(1px, 1px, 1px, 1px);height: 1px;margin: -1px;overflow: hidden;padding: 0;position: absolute;width: 1px;}#sk-container-id-3 div.sk-estimator {font-family: monospace;background-color: #f0f8ff;border: 1px dotted black;border-radius: 0.25em;box-sizing: border-box;margin-bottom: 0.5em;}#sk-container-id-3 div.sk-estimator:hover {background-color: #d4ebff;}#sk-container-id-3 div.sk-parallel-item::after {content: \"\";width: 100%;border-bottom: 1px solid gray;flex-grow: 1;}#sk-container-id-3 div.sk-label:hover label.sk-toggleable__label {background-color: #d4ebff;}#sk-container-id-3 div.sk-serial::before {content: \"\";position: absolute;border-left: 1px solid gray;box-sizing: border-box;top: 0;bottom: 0;left: 50%;z-index: 0;}#sk-container-id-3 div.sk-serial {display: flex;flex-direction: column;align-items: center;background-color: white;padding-right: 0.2em;padding-left: 0.2em;position: relative;}#sk-container-id-3 div.sk-item {position: relative;z-index: 1;}#sk-container-id-3 div.sk-parallel {display: flex;align-items: stretch;justify-content: center;background-color: white;position: relative;}#sk-container-id-3 div.sk-item::before, #sk-container-id-3 div.sk-parallel-item::before {content: \"\";position: absolute;border-left: 1px solid gray;box-sizing: border-box;top: 0;bottom: 0;left: 50%;z-index: -1;}#sk-container-id-3 div.sk-parallel-item {display: flex;flex-direction: column;z-index: 1;position: relative;background-color: white;}#sk-container-id-3 div.sk-parallel-item:first-child::after {align-self: flex-end;width: 50%;}#sk-container-id-3 div.sk-parallel-item:last-child::after {align-self: flex-start;width: 50%;}#sk-container-id-3 div.sk-parallel-item:only-child::after {width: 0;}#sk-container-id-3 div.sk-dashed-wrapped {border: 1px dashed gray;margin: 0 0.4em 0.5em 0.4em;box-sizing: border-box;padding-bottom: 0.4em;background-color: white;}#sk-container-id-3 div.sk-label label {font-family: monospace;font-weight: bold;display: inline-block;line-height: 1.2em;}#sk-container-id-3 div.sk-label-container {text-align: center;}#sk-container-id-3 div.sk-container {/* jupyter's `normalize.less` sets `[hidden] { display: none; }` but bootstrap.min.css set `[hidden] { display: none !important; }` so we also need the `!important` here to be able to override the default hidden behavior on the sphinx rendered scikit-learn.org. See: https://github.com/scikit-learn/scikit-learn/issues/21755 */display: inline-block !important;position: relative;}#sk-container-id-3 div.sk-text-repr-fallback {display: none;}</style><div id=\"sk-container-id-3\" class=\"sk-top-container\"><div class=\"sk-text-repr-fallback\"><pre>SVC(kernel=&#x27;linear&#x27;)</pre><b>In a Jupyter environment, please rerun this cell to show the HTML representation or trust the notebook. <br />On GitHub, the HTML representation is unable to render, please try loading this page with nbviewer.org.</b></div><div class=\"sk-container\" hidden><div class=\"sk-item\"><div class=\"sk-estimator sk-toggleable\"><input class=\"sk-toggleable__control sk-hidden--visually\" id=\"sk-estimator-id-3\" type=\"checkbox\" checked><label for=\"sk-estimator-id-3\" class=\"sk-toggleable__label sk-toggleable__label-arrow\">SVC</label><div class=\"sk-toggleable__content\"><pre>SVC(kernel=&#x27;linear&#x27;)</pre></div></div></div></div></div>"
            ],
            "text/plain": [
              "SVC(kernel='linear')"
            ]
          },
          "execution_count": 42,
          "metadata": {},
          "output_type": "execute_result"
        }
      ],
      "source": [
        "# Train the model\n",
        "svm_classifier_bio.fit(combined_features_bio, combined_labels_bio)"
      ]
    },
    {
      "cell_type": "code",
      "execution_count": null,
      "metadata": {
        "id": "__UVp-A3zHJy"
      },
      "outputs": [],
      "source": [
        "# Evaluate the model\n",
        "def evaluate_model(model, X, y):\n",
        "    y_pred = model.predict(X)\n",
        "    auc_roc = roc_auc_score(y, y_pred)\n",
        "    tn, fp, fn, tp = confusion_matrix(y, y_pred).ravel()\n",
        "    sensitivity = tp / (tp + fn)\n",
        "    specificity = tn / (tn + fp)\n",
        "    balanced_accuracy = (sensitivity + specificity) / 2\n",
        "    kappa = cohen_kappa_score(y, y_pred)\n",
        "    accuracy = accuracy_score(y, y_pred)\n",
        "\n",
        "    return auc_roc, sensitivity, specificity, balanced_accuracy, kappa, accuracy"
      ]
    },
    {
      "cell_type": "code",
      "execution_count": null,
      "metadata": {
        "colab": {
          "base_uri": "https://localhost:8080/"
        },
        "id": "WxwGdtU4zKRU",
        "outputId": "c5e5e7da-090a-4934-d817-7b62e4e57d41"
      },
      "outputs": [
        {
          "name": "stdout",
          "output_type": "stream",
          "text": [
            "\n",
            "Test Performance:\n",
            "AUC-ROC: 0.5491228070175439\n",
            "Sensitivity: 0.9666666666666667\n",
            "Specificity: 0.13157894736842105\n",
            "Balanced Accuracy: 0.5491228070175439\n",
            "Cohen's Kappa: 0.12727272727272732\n",
            "Accuracy: 0.71875\n"
          ]
        }
      ],
      "source": [
        "# Evaluate the model on test data\n",
        "auc_roc_test, sensitivity_test, specificity_test, balanced_accuracy_test, kappa_test, accuracy = evaluate_model(svm_classifier_bio, test_X_scaled_bio, split['test']['Y'])\n",
        "print(\"\\nTest Performance:\")\n",
        "print(\"AUC-ROC:\", auc_roc_test)\n",
        "print(\"Sensitivity:\", sensitivity_test)\n",
        "print(\"Specificity:\", specificity_test)\n",
        "print(\"Balanced Accuracy:\", balanced_accuracy_test)\n",
        "print(\"Cohen's Kappa:\", kappa_test)\n",
        "print(\"Accuracy:\", accuracy)"
      ]
    },
    {
      "cell_type": "code",
      "execution_count": null,
      "metadata": {
        "colab": {
          "base_uri": "https://localhost:8080/",
          "height": 616
        },
        "id": "v3JJdhTCvCop",
        "outputId": "2338aeea-7a5b-4c70-b039-dfbb4f71a782"
      },
      "outputs": [
        {
          "data": {
            "image/png": "[encoded data removed]",
            "text/plain": [
              "<Figure size 1000x600 with 1 Axes>"
            ]
          },
          "metadata": {},
          "output_type": "display_data"
        }
      ],
      "source": [
        "# Feature Importance Plot\n",
        "\n",
        "coefficients = svm_classifier_bio.coef_[0]\n",
        "\n",
        "feature_names = [\"MW\", \"Ms\", \"nR05\", \"S2K\", \"ZM1V\", \"BLI\", \"TI2\", \"Dr11\", \"X1A\", \"X0Av\", \"X3v\", \"MWC02\", \"ESpm01d\", \"MLOGP\", \"nCconj\", \"lipinski\"]\n",
        "\n",
        "sorted_coefficients = coefficients[np.argsort(np.abs(coefficients))[::-1]]\n",
        "sorted_feature_names = [feature_names[i] for i in sorted_indices]\n",
        "\n",
        "plt.figure(figsize=(10, 6))\n",
        "plt.bar(range(len(coefficients)), sorted_coefficients, tick_label=sorted_feature_names)\n",
        "plt.title('Feature Importance Plot (BIO) - SVM')\n",
        "plt.xlabel('Features')\n",
        "plt.ylabel('Coefficient')\n",
        "plt.xticks(rotation=90)\n",
        "plt.show()"
      ]
    },
    {
      "cell_type": "markdown",
      "metadata": {
        "id": "ovWsk9x-jfLo"
      },
      "source": [
        "Random Forest\n",
        "---"
      ]
    },
    {
      "cell_type": "markdown",
      "metadata": {
        "id": "lLTZ3w8Y3ui6"
      },
      "source": [
        "PPBR\n",
        "\n",
        "-----"
      ]
    },
    {
      "cell_type": "code",
      "execution_count": null,
      "metadata": {
        "colab": {
          "base_uri": "https://localhost:8080/"
        },
        "id": "PrX9_2cujep9",
        "outputId": "32dbc4ad-71a3-40e3-c063-b255c8631b9b"
      },
      "outputs": [
        {
          "name": "stdout",
          "output_type": "stream",
          "text": [
            "Cross-Validation Scores: [0.75728155 0.81553398 0.76470588 0.7745098  0.81372549]\n",
            "Mean Accuracy: 0.7851513420902341\n"
          ]
        }
      ],
      "source": [
        "from sklearn.ensemble import RandomForestClassifier\n",
        "from sklearn.model_selection import cross_val_score\n",
        "from sklearn.metrics import roc_auc_score, confusion_matrix, cohen_kappa_score, accuracy_score\n",
        "\n",
        "combined_features_ppbr = np.vstack((X_scaled_ppbr, valid_X_scaled_ppbr))\n",
        "combined_labels_ppbr = np.concatenate((split['train']['Y'], split['valid']['Y']))\n",
        "rf_classifier_ppbr = RandomForestClassifier(n_estimators=200)\n",
        "cv_scores_ppbr = cross_val_score(rf_classifier_ppbr, combined_features_ppbr, combined_labels_ppbr, cv=5, scoring='accuracy')\n",
        "print(\"Cross-Validation Scores:\", cv_scores_ppbr)\n",
        "print(\"Mean Accuracy:\", cv_scores_ppbr.mean())"
      ]
    },
    {
      "cell_type": "code",
      "execution_count": null,
      "metadata": {
        "colab": {
          "base_uri": "https://localhost:8080/",
          "height": 74
        },
        "id": "_FL06eWP8BPb",
        "outputId": "d40e51f4-90e2-4f67-fb2e-572870a931d6"
      },
      "outputs": [
        {
          "data": {
            "text/html": [
              "<style>#sk-container-id-4 {color: black;background-color: white;}#sk-container-id-4 pre{padding: 0;}#sk-container-id-4 div.sk-toggleable {background-color: white;}#sk-container-id-4 label.sk-toggleable__label {cursor: pointer;display: block;width: 100%;margin-bottom: 0;padding: 0.3em;box-sizing: border-box;text-align: center;}#sk-container-id-4 label.sk-toggleable__label-arrow:before {content: \"▸\";float: left;margin-right: 0.25em;color: #696969;}#sk-container-id-4 label.sk-toggleable__label-arrow:hover:before {color: black;}#sk-container-id-4 div.sk-estimator:hover label.sk-toggleable__label-arrow:before {color: black;}#sk-container-id-4 div.sk-toggleable__content {max-height: 0;max-width: 0;overflow: hidden;text-align: left;background-color: #f0f8ff;}#sk-container-id-4 div.sk-toggleable__content pre {margin: 0.2em;color: black;border-radius: 0.25em;background-color: #f0f8ff;}#sk-container-id-4 input.sk-toggleable__control:checked~div.sk-toggleable__content {max-height: 200px;max-width: 100%;overflow: auto;}#sk-container-id-4 input.sk-toggleable__control:checked~label.sk-toggleable__label-arrow:before {content: \"▾\";}#sk-container-id-4 div.sk-estimator input.sk-toggleable__control:checked~label.sk-toggleable__label {background-color: #d4ebff;}#sk-container-id-4 div.sk-label input.sk-toggleable__control:checked~label.sk-toggleable__label {background-color: #d4ebff;}#sk-container-id-4 input.sk-hidden--visually {border: 0;clip: rect(1px 1px 1px 1px);clip: rect(1px, 1px, 1px, 1px);height: 1px;margin: -1px;overflow: hidden;padding: 0;position: absolute;width: 1px;}#sk-container-id-4 div.sk-estimator {font-family: monospace;background-color: #f0f8ff;border: 1px dotted black;border-radius: 0.25em;box-sizing: border-box;margin-bottom: 0.5em;}#sk-container-id-4 div.sk-estimator:hover {background-color: #d4ebff;}#sk-container-id-4 div.sk-parallel-item::after {content: \"\";width: 100%;border-bottom: 1px solid gray;flex-grow: 1;}#sk-container-id-4 div.sk-label:hover label.sk-toggleable__label {background-color: #d4ebff;}#sk-container-id-4 div.sk-serial::before {content: \"\";position: absolute;border-left: 1px solid gray;box-sizing: border-box;top: 0;bottom: 0;left: 50%;z-index: 0;}#sk-container-id-4 div.sk-serial {display: flex;flex-direction: column;align-items: center;background-color: white;padding-right: 0.2em;padding-left: 0.2em;position: relative;}#sk-container-id-4 div.sk-item {position: relative;z-index: 1;}#sk-container-id-4 div.sk-parallel {display: flex;align-items: stretch;justify-content: center;background-color: white;position: relative;}#sk-container-id-4 div.sk-item::before, #sk-container-id-4 div.sk-parallel-item::before {content: \"\";position: absolute;border-left: 1px solid gray;box-sizing: border-box;top: 0;bottom: 0;left: 50%;z-index: -1;}#sk-container-id-4 div.sk-parallel-item {display: flex;flex-direction: column;z-index: 1;position: relative;background-color: white;}#sk-container-id-4 div.sk-parallel-item:first-child::after {align-self: flex-end;width: 50%;}#sk-container-id-4 div.sk-parallel-item:last-child::after {align-self: flex-start;width: 50%;}#sk-container-id-4 div.sk-parallel-item:only-child::after {width: 0;}#sk-container-id-4 div.sk-dashed-wrapped {border: 1px dashed gray;margin: 0 0.4em 0.5em 0.4em;box-sizing: border-box;padding-bottom: 0.4em;background-color: white;}#sk-container-id-4 div.sk-label label {font-family: monospace;font-weight: bold;display: inline-block;line-height: 1.2em;}#sk-container-id-4 div.sk-label-container {text-align: center;}#sk-container-id-4 div.sk-container {/* jupyter's `normalize.less` sets `[hidden] { display: none; }` but bootstrap.min.css set `[hidden] { display: none !important; }` so we also need the `!important` here to be able to override the default hidden behavior on the sphinx rendered scikit-learn.org. See: https://github.com/scikit-learn/scikit-learn/issues/21755 */display: inline-block !important;position: relative;}#sk-container-id-4 div.sk-text-repr-fallback {display: none;}</style><div id=\"sk-container-id-4\" class=\"sk-top-container\"><div class=\"sk-text-repr-fallback\"><pre>RandomForestClassifier(n_estimators=200)</pre><b>In a Jupyter environment, please rerun this cell to show the HTML representation or trust the notebook. <br />On GitHub, the HTML representation is unable to render, please try loading this page with nbviewer.org.</b></div><div class=\"sk-container\" hidden><div class=\"sk-item\"><div class=\"sk-estimator sk-toggleable\"><input class=\"sk-toggleable__control sk-hidden--visually\" id=\"sk-estimator-id-4\" type=\"checkbox\" checked><label for=\"sk-estimator-id-4\" class=\"sk-toggleable__label sk-toggleable__label-arrow\">RandomForestClassifier</label><div class=\"sk-toggleable__content\"><pre>RandomForestClassifier(n_estimators=200)</pre></div></div></div></div></div>"
            ],
            "text/plain": [
              "RandomForestClassifier(n_estimators=200)"
            ]
          },
          "execution_count": 47,
          "metadata": {},
          "output_type": "execute_result"
        }
      ],
      "source": [
        "# Train the model\n",
        "rf_classifier_ppbr.fit(combined_features_ppbr, combined_labels_ppbr)"
      ]
    },
    {
      "cell_type": "code",
      "execution_count": null,
      "metadata": {
        "id": "WDs-Dn-Y8FBy"
      },
      "outputs": [],
      "source": [
        "# Evaluate the model\n",
        "def evaluate_model(model, X, y):\n",
        "    y_pred = model.predict(X)\n",
        "    auc_roc = roc_auc_score(y, y_pred)\n",
        "    tn, fp, fn, tp = confusion_matrix(y, y_pred).ravel()\n",
        "    sensitivity = tp / (tp + fn)\n",
        "    specificity = tn / (tn + fp)\n",
        "    balanced_accuracy = (sensitivity + specificity) / 2\n",
        "    kappa = cohen_kappa_score(y, y_pred)\n",
        "    accuracy = accuracy_score(y, y_pred)\n",
        "\n",
        "    return auc_roc, sensitivity, specificity, balanced_accuracy, kappa, accuracy"
      ]
    },
    {
      "cell_type": "code",
      "execution_count": null,
      "metadata": {
        "colab": {
          "base_uri": "https://localhost:8080/"
        },
        "id": "JAxzf1Jz8L5E",
        "outputId": "e59a10f3-50e0-48a7-f3fb-654684acd4a0"
      },
      "outputs": [
        {
          "name": "stdout",
          "output_type": "stream",
          "text": [
            "\n",
            "Test Performance:\n",
            "AUC-ROC: 0.5587719298245615\n",
            "Sensitivity: 0.9333333333333333\n",
            "Specificity: 0.18421052631578946\n",
            "Balanced Accuracy: 0.5587719298245614\n",
            "Cohen's Kappa: 0.14512635379061367\n",
            "Accuracy: 0.7109375\n"
          ]
        }
      ],
      "source": [
        "# Evaluate the model on test data\n",
        "auc_roc_test, sensitivity_test, specificity_test, balanced_accuracy_test, kappa_test, accuracy = evaluate_model(rf_classifier_ppbr, test_X_scaled_ppbr, split['test']['Y'])\n",
        "print(\"\\nTest Performance:\")\n",
        "print(\"AUC-ROC:\", auc_roc_test)\n",
        "print(\"Sensitivity:\", sensitivity_test)\n",
        "print(\"Specificity:\", specificity_test)\n",
        "print(\"Balanced Accuracy:\", balanced_accuracy_test)\n",
        "print(\"Cohen's Kappa:\", kappa_test)\n",
        "print(\"Accuracy:\", accuracy)"
      ]
    },
    {
      "cell_type": "code",
      "execution_count": null,
      "metadata": {
        "colab": {
          "base_uri": "https://localhost:8080/",
          "height": 619
        },
        "id": "FLe1i46y30q_",
        "outputId": "445429b2-57eb-470b-d312-f50885a63e42"
      },
      "outputs": [
        {
          "data": {
            "image/png": "[encoded data removed]",
            "text/plain": [
              "<Figure size 1000x600 with 1 Axes>"
            ]
          },
          "metadata": {},
          "output_type": "display_data"
        }
      ],
      "source": [
        "# Feature Importance Plot\n",
        "\n",
        "importances = rf_classifier_ppbr.feature_importances_\n",
        "\n",
        "feature_names = [\"Mv\", \"Ms\", \"nAT\", \"nS\", \"ARR\", \"X4Av\", \"ESpm01d\", \"ALOGP2\", \"TPSA\", \"nCconj\", \"nRCONHR\"]\n",
        "\n",
        "sorted_feature_names = [feature_names[i] for i in importances[importances.argsort()[::-1]]]\n",
        "\n",
        "plt.figure(figsize=(10, 6))\n",
        "plt.bar(range(len(importances)), sorted_importances, tick_label=sorted_feature_names)\n",
        "plt.title('Feature Importance Plot (PPBR) - Random Forest Model')\n",
        "plt.xlabel('Features')\n",
        "plt.ylabel('Importance')\n",
        "plt.xticks(rotation=90)\n",
        "plt.show()\n"
      ]
    },
    {
      "cell_type": "markdown",
      "metadata": {
        "id": "vjWw90QEFvI7"
      },
      "source": [
        "BIO\n",
        "\n",
        "-----"
      ]
    },
    {
      "cell_type": "code",
      "execution_count": null,
      "metadata": {
        "colab": {
          "base_uri": "https://localhost:8080/"
        },
        "id": "d5aHztw-Ftjq",
        "outputId": "abb622c8-56d3-4f28-939b-cbc05dd8d1a0"
      },
      "outputs": [
        {
          "name": "stdout",
          "output_type": "stream",
          "text": [
            "Cross-Validation Scores: [0.78640777 0.76699029 0.78431373 0.79411765 0.81372549]\n",
            "Mean Accuracy: 0.789110984199505\n"
          ]
        }
      ],
      "source": [
        "from sklearn.ensemble import RandomForestClassifier\n",
        "from sklearn.model_selection import cross_val_score\n",
        "from sklearn.metrics import roc_auc_score, confusion_matrix, cohen_kappa_score, accuracy_score\n",
        "\n",
        "combined_features_bio = np.vstack((X_scaled_bio, valid_X_scaled_bio))\n",
        "combined_labels_bio = np.concatenate((split['train']['Y'], split['valid']['Y']))\n",
        "rf_classifier_bio = RandomForestClassifier(n_estimators=200)\n",
        "cv_scores_bio = cross_val_score(rf_classifier_bio, combined_features_bio, combined_labels_bio, cv=5, scoring='accuracy')\n",
        "print(\"Cross-Validation Scores:\", cv_scores_bio)\n",
        "print(\"Mean Accuracy:\", cv_scores_bio.mean())"
      ]
    },
    {
      "cell_type": "code",
      "execution_count": null,
      "metadata": {
        "colab": {
          "base_uri": "https://localhost:8080/",
          "height": 74
        },
        "id": "NFYJ_45Y069z",
        "outputId": "e9f03a60-a576-4e53-8d60-2dcd8793c2a5"
      },
      "outputs": [
        {
          "data": {
            "text/html": [
              "<style>#sk-container-id-5 {color: black;background-color: white;}#sk-container-id-5 pre{padding: 0;}#sk-container-id-5 div.sk-toggleable {background-color: white;}#sk-container-id-5 label.sk-toggleable__label {cursor: pointer;display: block;width: 100%;margin-bottom: 0;padding: 0.3em;box-sizing: border-box;text-align: center;}#sk-container-id-5 label.sk-toggleable__label-arrow:before {content: \"▸\";float: left;margin-right: 0.25em;color: #696969;}#sk-container-id-5 label.sk-toggleable__label-arrow:hover:before {color: black;}#sk-container-id-5 div.sk-estimator:hover label.sk-toggleable__label-arrow:before {color: black;}#sk-container-id-5 div.sk-toggleable__content {max-height: 0;max-width: 0;overflow: hidden;text-align: left;background-color: #f0f8ff;}#sk-container-id-5 div.sk-toggleable__content pre {margin: 0.2em;color: black;border-radius: 0.25em;background-color: #f0f8ff;}#sk-container-id-5 input.sk-toggleable__control:checked~div.sk-toggleable__content {max-height: 200px;max-width: 100%;overflow: auto;}#sk-container-id-5 input.sk-toggleable__control:checked~label.sk-toggleable__label-arrow:before {content: \"▾\";}#sk-container-id-5 div.sk-estimator input.sk-toggleable__control:checked~label.sk-toggleable__label {background-color: #d4ebff;}#sk-container-id-5 div.sk-label input.sk-toggleable__control:checked~label.sk-toggleable__label {background-color: #d4ebff;}#sk-container-id-5 input.sk-hidden--visually {border: 0;clip: rect(1px 1px 1px 1px);clip: rect(1px, 1px, 1px, 1px);height: 1px;margin: -1px;overflow: hidden;padding: 0;position: absolute;width: 1px;}#sk-container-id-5 div.sk-estimator {font-family: monospace;background-color: #f0f8ff;border: 1px dotted black;border-radius: 0.25em;box-sizing: border-box;margin-bottom: 0.5em;}#sk-container-id-5 div.sk-estimator:hover {background-color: #d4ebff;}#sk-container-id-5 div.sk-parallel-item::after {content: \"\";width: 100%;border-bottom: 1px solid gray;flex-grow: 1;}#sk-container-id-5 div.sk-label:hover label.sk-toggleable__label {background-color: #d4ebff;}#sk-container-id-5 div.sk-serial::before {content: \"\";position: absolute;border-left: 1px solid gray;box-sizing: border-box;top: 0;bottom: 0;left: 50%;z-index: 0;}#sk-container-id-5 div.sk-serial {display: flex;flex-direction: column;align-items: center;background-color: white;padding-right: 0.2em;padding-left: 0.2em;position: relative;}#sk-container-id-5 div.sk-item {position: relative;z-index: 1;}#sk-container-id-5 div.sk-parallel {display: flex;align-items: stretch;justify-content: center;background-color: white;position: relative;}#sk-container-id-5 div.sk-item::before, #sk-container-id-5 div.sk-parallel-item::before {content: \"\";position: absolute;border-left: 1px solid gray;box-sizing: border-box;top: 0;bottom: 0;left: 50%;z-index: -1;}#sk-container-id-5 div.sk-parallel-item {display: flex;flex-direction: column;z-index: 1;position: relative;background-color: white;}#sk-container-id-5 div.sk-parallel-item:first-child::after {align-self: flex-end;width: 50%;}#sk-container-id-5 div.sk-parallel-item:last-child::after {align-self: flex-start;width: 50%;}#sk-container-id-5 div.sk-parallel-item:only-child::after {width: 0;}#sk-container-id-5 div.sk-dashed-wrapped {border: 1px dashed gray;margin: 0 0.4em 0.5em 0.4em;box-sizing: border-box;padding-bottom: 0.4em;background-color: white;}#sk-container-id-5 div.sk-label label {font-family: monospace;font-weight: bold;display: inline-block;line-height: 1.2em;}#sk-container-id-5 div.sk-label-container {text-align: center;}#sk-container-id-5 div.sk-container {/* jupyter's `normalize.less` sets `[hidden] { display: none; }` but bootstrap.min.css set `[hidden] { display: none !important; }` so we also need the `!important` here to be able to override the default hidden behavior on the sphinx rendered scikit-learn.org. See: https://github.com/scikit-learn/scikit-learn/issues/21755 */display: inline-block !important;position: relative;}#sk-container-id-5 div.sk-text-repr-fallback {display: none;}</style><div id=\"sk-container-id-5\" class=\"sk-top-container\"><div class=\"sk-text-repr-fallback\"><pre>RandomForestClassifier(n_estimators=200)</pre><b>In a Jupyter environment, please rerun this cell to show the HTML representation or trust the notebook. <br />On GitHub, the HTML representation is unable to render, please try loading this page with nbviewer.org.</b></div><div class=\"sk-container\" hidden><div class=\"sk-item\"><div class=\"sk-estimator sk-toggleable\"><input class=\"sk-toggleable__control sk-hidden--visually\" id=\"sk-estimator-id-5\" type=\"checkbox\" checked><label for=\"sk-estimator-id-5\" class=\"sk-toggleable__label sk-toggleable__label-arrow\">RandomForestClassifier</label><div class=\"sk-toggleable__content\"><pre>RandomForestClassifier(n_estimators=200)</pre></div></div></div></div></div>"
            ],
            "text/plain": [
              "RandomForestClassifier(n_estimators=200)"
            ]
          },
          "execution_count": 52,
          "metadata": {},
          "output_type": "execute_result"
        }
      ],
      "source": [
        "# Train the model\n",
        "rf_classifier_bio.fit(combined_features_bio, combined_labels_bio)"
      ]
    },
    {
      "cell_type": "code",
      "execution_count": null,
      "metadata": {
        "id": "PmaL9WXG70QY"
      },
      "outputs": [],
      "source": [
        "# Evaluate the model\n",
        "def evaluate_model(model, X, y):\n",
        "    y_pred = model.predict(X)\n",
        "    auc_roc = roc_auc_score(y, y_pred)\n",
        "    tn, fp, fn, tp = confusion_matrix(y, y_pred).ravel()\n",
        "    sensitivity = tp / (tp + fn)\n",
        "    specificity = tn / (tn + fp)\n",
        "    balanced_accuracy = (sensitivity + specificity) / 2\n",
        "    kappa = cohen_kappa_score(y, y_pred)\n",
        "    accuracy = accuracy_score(y, y_pred)\n",
        "\n",
        "    return auc_roc, sensitivity, specificity, balanced_accuracy, kappa, accuracy"
      ]
    },
    {
      "cell_type": "code",
      "execution_count": null,
      "metadata": {
        "colab": {
          "base_uri": "https://localhost:8080/"
        },
        "id": "m-XvDnB91LbE",
        "outputId": "97445016-cede-4504-fa4e-64cc1aed65df"
      },
      "outputs": [
        {
          "name": "stdout",
          "output_type": "stream",
          "text": [
            "\n",
            "Test Performance:\n",
            "AUC-ROC: 0.5587719298245615\n",
            "Sensitivity: 0.9333333333333333\n",
            "Specificity: 0.18421052631578946\n",
            "Balanced Accuracy: 0.5587719298245614\n",
            "Cohen's Kappa: 0.14512635379061367\n",
            "Accuracy: 0.7109375\n"
          ]
        }
      ],
      "source": [
        "# Evaluate the model on test data\n",
        "auc_roc_test, sensitivity_test, specificity_test, balanced_accuracy_test, kappa_test, accuracy = evaluate_model(rf_classifier_bio, test_X_scaled_bio, split['test']['Y'])\n",
        "print(\"\\nTest Performance:\")\n",
        "print(\"AUC-ROC:\", auc_roc_test)\n",
        "print(\"Sensitivity:\", sensitivity_test)\n",
        "print(\"Specificity:\", specificity_test)\n",
        "print(\"Balanced Accuracy:\", balanced_accuracy_test)\n",
        "print(\"Cohen's Kappa:\", kappa_test)\n",
        "print(\"Accuracy:\", accuracy)"
      ]
    },
    {
      "cell_type": "code",
      "execution_count": null,
      "metadata": {
        "colab": {
          "base_uri": "https://localhost:8080/",
          "height": 616
        },
        "id": "70NTtCgX4fv0",
        "outputId": "b2b08a94-2fb7-457e-9bb3-e884ffc3b179"
      },
      "outputs": [
        {
          "data": {
            "image/png": "[encoded data removed]",
            "text/plain": [
              "<Figure size 1000x600 with 1 Axes>"
            ]
          },
          "metadata": {},
          "output_type": "display_data"
        }
      ],
      "source": [
        "# Feature Importance Plot\n",
        "\n",
        "importances = rf_classifier_bio.feature_importances_\n",
        "\n",
        "feature_names = [\"MW\", \"Ms\", \"nR05\", \"S2K\", \"ZM1V\", \"BLI\", \"TI2\", \"Dr11\", \"X1A\", \"X0Av\", \"X3v\", \"MWC02\", \"ESpm01d\", \"MLOGP\", \"nCconj\", \"lipinski\"]\n",
        "\n",
        "sorted_indices = importances.argsort()[::-1]\n",
        "sorted_importances = importances[sorted_indices]\n",
        "sorted_feature_names = [feature_names[i] for i in sorted_indices]\n",
        "\n",
        "plt.figure(figsize=(10, 6))\n",
        "plt.bar(range(len(importances)), sorted_importances, tick_label=sorted_feature_names)\n",
        "plt.title('Feature Importance Plot (BIO) - Random Forest Model')\n",
        "plt.xlabel('Features')\n",
        "plt.ylabel('Importance')\n",
        "plt.xticks(rotation=90)\n",
        "plt.show()\n"
      ]
    },
    {
      "cell_type": "markdown",
      "metadata": {
        "id": "I49LSzAyjgUI"
      },
      "source": [
        "GNN"
      ]
    },
    {
      "cell_type": "markdown",
      "metadata": {
        "id": "zd6nrosmryNP"
      },
      "source": [
        "Embeddings using SMILE and Features"
      ]
    },
    {
      "cell_type": "code",
      "execution_count": null,
      "metadata": {
        "id": "pox-B_jm5L6j"
      },
      "outputs": [],
      "source": [
        "!pip install torch-scatter -f https://data.pyg.org/whl/torch-1.8.0+cpu.html\n",
        "!pip install torch-sparse -f https://data.pyg.org/whl/torch-1.8.0+cpu.html\n",
        "!pip install torch-cluster -f https://data.pyg.org/whl/torch-1.8.0+cpu.html\n",
        "!pip install torch-spline-conv -f https://data.pyg.org/whl/torch-1.8.0+cpu.html\n",
        "!pip install torch-geometric"
      ]
    },
    {
      "cell_type": "code",
      "execution_count": null,
      "metadata": {},
      "outputs": [],
      "source": [
        "from torch_geometric.data import Data\n",
        "import pandas as pd\n",
        "import numpy as np\n",
        "import torch\n",
        "from torch_geometric.nn import GCNConv, global_mean_pool\n",
        "from rdkit import Chem\n",
        "import torch\n",
        "import torch.nn as nn\n",
        "from torch.optim import Adam\n",
        "\n",
        "# https://www.blopig.com/blog/2022/02/how-to-turn-a-smiles-string-into-a-molecular-graph-for-pytorch-geometric/\n",
        "# https://pytorch-geometric.readthedocs.io/en/latest/_modules/torch_geometric/utils/smiles.html\n",
        "# https://medium.com/@JyotsnaPyarasani/building-a-senolytic-prediction-model-using-graph-neural-networks-7e244db3101c\n",
        "\n",
        "def smiles_to_graph(smiles, descriptors):\n",
        "    m = Chem.MolFromSmiles(smiles)\n",
        "    node_features = []\n",
        "    for atom in m.GetAtoms():\n",
        "        node_features.append(atom.GetAtomicNum())\n",
        "    node_features = torch.tensor(node_features, dtype=torch.float).unsqueeze(-1)\n",
        "    edges = []\n",
        "    for bond in m.GetBonds():\n",
        "        edges.append([bond.GetBeginAtomIdx(), bond.GetEndAtomIdx()])\n",
        "        edges.append([bond.GetEndAtomIdx(), bond.GetBeginAtomIdx()])\n",
        "    edge_index = torch.tensor(edges, dtype=torch.long).t().contiguous()\n",
        "    data = Data(x=node_features, edge_index=edge_index, descriptors=torch.tensor(descriptors, dtype=torch.float))\n",
        "    return data"
      ]
    },
    {
      "cell_type": "markdown",
      "metadata": {},
      "source": [
        "### PPBR"
      ]
    },
    {
      "cell_type": "code",
      "execution_count": null,
      "metadata": {},
      "outputs": [],
      "source": [
        "import torch\n",
        "from torch_geometric.nn import GCNConv, global_mean_pool\n",
        "\n",
        "class GNN(torch.nn.Module):\n",
        "    def __init__(self):\n",
        "        super(GNN, self).__init__()\n",
        "        self.conv1 = GCNConv(1, 30)\n",
        "        self.conv2 = GCNConv(30, 50)\n",
        "        self.fc1 = torch.nn.Linear(60, 30) # be sure to add the number of features which you extracted - so in this case 50 + extracted features = 60\n",
        "        self.fc2 = torch.nn.Linear(30, 2)\n",
        "\n",
        "    def forward(self, data):\n",
        "        x = self.conv1(data.x, data.edge_index)\n",
        "        x = torch.relu(x)\n",
        "        x = self.conv2(x, data.edge_index)\n",
        "        x = torch.relu(x)\n",
        "        x = global_mean_pool(x, data.batch)\n",
        "        x = torch.cat([x, data.descriptors], dim=1)\n",
        "        x = self.fc1(x)\n",
        "        x = torch.relu(x)\n",
        "        x = self.fc2(x)\n",
        "        return x"
      ]
    },
    {
      "cell_type": "code",
      "execution_count": null,
      "metadata": {},
      "outputs": [],
      "source": [
        "train_labels = torch.tensor(split['train']['Y'], dtype=torch.long)\n",
        "train_features = []\n",
        "for smiles in split['train']['Drug']:\n",
        "    features = feature_gen_ppbr_single(smiles)\n",
        "    train_features.append(features)\n",
        "\n",
        "train_data = []\n",
        "for smiles, features in zip(split['train']['Drug'], train_features):\n",
        "    graph_data = smiles_to_graph(smiles, features)\n",
        "    train_data.append(graph_data)"
      ]
    },
    {
      "cell_type": "code",
      "execution_count": null,
      "metadata": {},
      "outputs": [],
      "source": [
        "model = GNN()\n",
        "optimizer = Adam(model.parameters(), lr=0.0001)\n",
        "criterion = nn.CrossEntropyLoss()"
      ]
    },
    {
      "cell_type": "code",
      "execution_count": null,
      "metadata": {},
      "outputs": [],
      "source": [
        "for epoch in range(1000):\n",
        "    model.train()\n",
        "    total_loss = 0\n",
        "    for data, label in zip(train_data, train_labels):\n",
        "        optimizer.zero_grad()\n",
        "        output = model(data)\n",
        "        label = torch.tensor([label], dtype=torch.long)\n",
        "        loss = criterion(output, label)\n",
        "        loss.backward()\n",
        "        optimizer.step()\n",
        "        total_loss += loss.item()\n",
        "    curr_loss = total_loss / len(train_data)\n",
        "    print(epoch, curr_loss)"
      ]
    },
    {
      "cell_type": "code",
      "execution_count": null,
      "metadata": {},
      "outputs": [],
      "source": [
        "test_labels = torch.tensor(split['test']['Y'], dtype=torch.long)\n",
        "test_features = []\n",
        "for smiles in split['test']['Drug']:\n",
        "    features = feature_gen_ppbr_single(smiles)\n",
        "    test_features.append(features)\n",
        "\n",
        "test_data = []\n",
        "for smiles, features in zip(split['test']['Drug'], test_features):\n",
        "    graph_data = smiles_to_graph(smiles, features)\n",
        "    test_data.append(graph_data)"
      ]
    },
    {
      "cell_type": "code",
      "execution_count": null,
      "metadata": {},
      "outputs": [],
      "source": [
        "model.eval()\n",
        "predictions = []\n",
        "\n",
        "with torch.no_grad():\n",
        "    for data in test_data:\n",
        "        output = model(data)\n",
        "        predictions.append(output.argmax(dim=1))"
      ]
    },
    {
      "cell_type": "code",
      "execution_count": null,
      "metadata": {},
      "outputs": [],
      "source": [
        "from sklearn.metrics import precision_score, recall_score, f1_score, accuracy_score\n",
        "\n",
        "# Calculate metrics\n",
        "precision = precision_score(test_labels, predictions)\n",
        "recall = recall_score(test_labels, predictions)\n",
        "f1 = f1_score(test_labels, predictions)\n",
        "accuracy = accuracy_score(test_labels, predictions)\n",
        "\n",
        "print(\"accuracy:\", accuracy)\n",
        "print(\"precision:\", precision)\n",
        "print(\"recall:\", recall)\n",
        "print(\"f1:\", f1)"
      ]
    },
    {
      "cell_type": "code",
      "execution_count": null,
      "metadata": {},
      "outputs": [],
      "source": [
        "def evaluate_model_gnn(model, X, y_pred):\n",
        "    y = split['test']['Y']\n",
        "    auc_roc = roc_auc_score(y, y_pred)\n",
        "    tn, fp, fn, tp = confusion_matrix(y, y_pred).ravel()\n",
        "    sensitivity = tp / (tp + fn)\n",
        "    specificity = tn / (tn + fp)\n",
        "    balanced_accuracy = (sensitivity + specificity) / 2\n",
        "    kappa = cohen_kappa_score(y, y_pred)\n",
        "    accuracy = accuracy_score(y, y_pred)\n",
        "\n",
        "    return auc_roc, sensitivity, specificity, balanced_accuracy, kappa, accuracy"
      ]
    },
    {
      "cell_type": "code",
      "execution_count": null,
      "metadata": {},
      "outputs": [],
      "source": [
        "from sklearn.metrics import roc_auc_score, confusion_matrix, cohen_kappa_score, accuracy_score\n",
        "from sklearn.metrics import precision_score, recall_score, f1_score\n",
        "\n",
        "auc_roc_test, sensitivity_test, specificity_test, balanced_accuracy_test, kappa_test, accuracy = evaluate_model_gnn(model, test_labels, predictions)\n",
        "print(\"\\nTest Performance:\")\n",
        "print(\"AUC-ROC:\", auc_roc_test)\n",
        "print(\"Sensitivity:\", sensitivity_test)\n",
        "print(\"Specificity:\", specificity_test)\n",
        "print(\"Balanced Accuracy:\", balanced_accuracy_test)\n",
        "print(\"Cohen's Kappa:\", kappa_test)\n",
        "print(\"Accuracy:\", accuracy)"
      ]
    },
    {
      "cell_type": "markdown",
      "metadata": {},
      "source": [
        "### BIO"
      ]
    },
    {
      "cell_type": "code",
      "execution_count": null,
      "metadata": {},
      "outputs": [],
      "source": [
        "import torch\n",
        "from torch_geometric.nn import GCNConv, global_mean_pool\n",
        "\n",
        "class GNNB(torch.nn.Module):\n",
        "    def __init__(self):\n",
        "        super(GNNB, self).__init__()\n",
        "        self.conv1 = GCNConv(1, 30)\n",
        "        self.conv2 = GCNConv(30, 50)\n",
        "        self.fc1 = torch.nn.Linear(66, 30) # be sure to add the number of features which you extracted - so in this case 50 + extracted features = 60\n",
        "        self.fc2 = torch.nn.Linear(30, 2)\n",
        "\n",
        "    def forward(self, data):\n",
        "        x = self.conv1(data.x, data.edge_index)\n",
        "        # print(x)\n",
        "        x = torch.relu(x)\n",
        "        x = self.conv2(x, data.edge_index)\n",
        "        # print(x)\n",
        "        x = torch.relu(x)\n",
        "        # print(x.shape)\n",
        "        # print(data.descriptors.shape)\n",
        "        x = global_mean_pool(x, data.batch)\n",
        "        x = torch.cat([x, data.descriptors], dim=1)\n",
        "        x = self.fc1(x)\n",
        "        # print(x)\n",
        "        x = torch.relu(x)\n",
        "        x = self.fc2(x)\n",
        "        # print(x)\n",
        "        return x"
      ]
    },
    {
      "cell_type": "code",
      "execution_count": null,
      "metadata": {},
      "outputs": [],
      "source": [
        "train_features = []\n",
        "for smiles in split['train']['Drug']:\n",
        "    train_features.append(feature_gen_bio_single(smiles))\n",
        "\n",
        "train_data = []\n",
        "for smiles, features in zip(split['train']['Drug'], train_features):\n",
        "    train_data.append(smiles_to_graph(smiles, features))\n",
        "train_labels = torch.tensor(split['train']['Y'], dtype=torch.long)\n"
      ]
    },
    {
      "cell_type": "code",
      "execution_count": null,
      "metadata": {},
      "outputs": [],
      "source": [
        "print(train_data[0].x.shape)\n",
        "print(train_data[0].edge_index.shape)\n",
        "print(train_data[0].batch)\n",
        "print(train_data[0].descriptors.shape)"
      ]
    },
    {
      "cell_type": "code",
      "execution_count": null,
      "metadata": {},
      "outputs": [],
      "source": [
        "model = GNNB()\n",
        "optimizer = Adam(model.parameters(), lr=0.00001)\n",
        "criterion = nn.CrossEntropyLoss()"
      ]
    },
    {
      "cell_type": "code",
      "execution_count": null,
      "metadata": {},
      "outputs": [],
      "source": [
        "for epoch in range(1000):\n",
        "    model.train()\n",
        "    total_loss = 0\n",
        "    for data, label in zip(train_data, train_labels):\n",
        "        optimizer.zero_grad()\n",
        "        output = model(data)\n",
        "        # print(output)\n",
        "        label = torch.tensor([label], dtype=torch.long)\n",
        "        loss = criterion(output, label)\n",
        "        loss.backward()\n",
        "        optimizer.step()\n",
        "        total_loss += loss.item()\n",
        "    curr_loss = total_loss / len(train_data)\n",
        "    print(epoch, curr_loss)"
      ]
    },
    {
      "cell_type": "code",
      "execution_count": null,
      "metadata": {},
      "outputs": [],
      "source": [
        "test_features = []\n",
        "for smiles in split['test']['Drug']:\n",
        "    features = feature_gen_bio_single(smiles)\n",
        "    test_features.append(features)\n",
        "\n",
        "test_data = []\n",
        "for smiles, features in zip(split['test']['Drug'], test_features):\n",
        "    graph_data = smiles_to_graph(smiles, features)\n",
        "    test_data.append(graph_data)"
      ]
    },
    {
      "cell_type": "code",
      "execution_count": null,
      "metadata": {},
      "outputs": [],
      "source": [
        "model.eval()\n",
        "predictions = []\n",
        "with torch.no_grad():\n",
        "    for data in test_data:\n",
        "        output = model(data)\n",
        "        predictions.append(output.argmax(dim=1))"
      ]
    },
    {
      "cell_type": "code",
      "execution_count": null,
      "metadata": {},
      "outputs": [],
      "source": [
        "from sklearn.metrics import precision_score, recall_score, f1_score, accuracy_score\n",
        "\n",
        "# Calculate metrics\n",
        "precision = precision_score(test_labels, predictions)\n",
        "recall = recall_score(test_labels, predictions)\n",
        "f1 = f1_score(test_labels, predictions)\n",
        "accuracy = accuracy_score(test_labels, predictions)\n",
        "\n",
        "print(\"accuracy:\", accuracy)\n",
        "print(\"precision:\", precision)\n",
        "print(\"recall:\", recall)\n",
        "print(\"f1:\", f1)"
      ]
    },
    {
      "cell_type": "code",
      "execution_count": null,
      "metadata": {},
      "outputs": [],
      "source": [
        "from sklearn.metrics import roc_auc_score, confusion_matrix, cohen_kappa_score, accuracy_score\n",
        "from sklearn.metrics import precision_score, recall_score, f1_score\n",
        "\n",
        "auc_roc_test, sensitivity_test, specificity_test, balanced_accuracy_test, kappa_test, accuracy = evaluate_model_gnn(model, test_labels, predictions)\n",
        "print(\"\\nTest Performance:\")\n",
        "print(\"AUC-ROC:\", auc_roc_test)\n",
        "print(\"Sensitivity:\", sensitivity_test)\n",
        "print(\"Specificity:\", specificity_test)\n",
        "print(\"Balanced Accuracy:\", balanced_accuracy_test)\n",
        "print(\"Cohen's Kappa:\", kappa_test)\n",
        "print(\"Accuracy:\", accuracy)"
      ]
    }
  ],
  "metadata": {
    "accelerator": "GPU",
    "colab": {
      "gpuType": "T4",
      "provenance": []
    },
    "kernelspec": {
      "display_name": "Python 3",
      "name": "python3"
    },
    "language_info": {
      "name": "python"
    }
  },
  "nbformat": 4,
  "nbformat_minor": 0
}
